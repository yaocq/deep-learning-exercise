{
 "cells": [
  {
   "cell_type": "markdown",
   "metadata": {},
   "source": [
    "# TV Script Generation\n",
    "In this project, you'll generate your own [Simpsons](https://en.wikipedia.org/wiki/The_Simpsons) TV scripts using RNNs.  You'll be using part of the [Simpsons dataset](https://www.kaggle.com/wcukierski/the-simpsons-by-the-data) of scripts from 27 seasons.  The Neural Network you'll build will generate a new TV script for a scene at [Moe's Tavern](https://simpsonswiki.com/wiki/Moe's_Tavern).\n",
    "## Get the Data\n",
    "The data is already provided for you.  You'll be using a subset of the original dataset.  It consists of only the scenes in Moe's Tavern.  This doesn't include other versions of the tavern, like \"Moe's Cavern\", \"Flaming Moe's\", \"Uncle Moe's Family Feed-Bag\", etc.."
   ]
  },
  {
   "cell_type": "code",
   "execution_count": 1,
   "metadata": {
    "collapsed": true
   },
   "outputs": [],
   "source": [
    "\"\"\"\n",
    "DON'T MODIFY ANYTHING IN THIS CELL\n",
    "\"\"\"\n",
    "import helper\n",
    "\n",
    "data_dir = './data/simpsons/moes_tavern_lines.txt'\n",
    "text = helper.load_data(data_dir)\n",
    "# Ignore notice, since we don't use it for analysing the data\n",
    "text = text[81:]"
   ]
  },
  {
   "cell_type": "markdown",
   "metadata": {},
   "source": [
    "## Explore the Data\n",
    "Play around with `view_sentence_range` to view different parts of the data."
   ]
  },
  {
   "cell_type": "code",
   "execution_count": 2,
   "metadata": {},
   "outputs": [
    {
     "name": "stdout",
     "output_type": "stream",
     "text": [
      "Dataset Stats\n",
      "Roughly the number of unique words: 11492\n",
      "Number of scenes: 262\n",
      "Average number of sentences in each scene: 15.248091603053435\n",
      "Number of lines: 4257\n",
      "Average number of words in each line: 11.50434578341555\n",
      "\n",
      "The sentences 0 to 10:\n",
      "Moe_Szyslak: (INTO PHONE) Moe's Tavern. Where the elite meet to drink.\n",
      "Bart_Simpson: Eh, yeah, hello, is Mike there? Last name, Rotch.\n",
      "Moe_Szyslak: (INTO PHONE) Hold on, I'll check. (TO BARFLIES) Mike Rotch. Mike Rotch. Hey, has anybody seen Mike Rotch, lately?\n",
      "Moe_Szyslak: (INTO PHONE) Listen you little puke. One of these days I'm gonna catch you, and I'm gonna carve my name on your back with an ice pick.\n",
      "Moe_Szyslak: What's the matter Homer? You're not your normal effervescent self.\n",
      "Homer_Simpson: I got my problems, Moe. Give me another one.\n",
      "Moe_Szyslak: Homer, hey, you should not drink to forget your problems.\n",
      "Barney_Gumble: Yeah, you should only drink to enhance your social skills.\n",
      "\n",
      "\n"
     ]
    }
   ],
   "source": [
    "view_sentence_range = (0, 10)\n",
    "\n",
    "\"\"\"\n",
    "DON'T MODIFY ANYTHING IN THIS CELL\n",
    "\"\"\"\n",
    "import numpy as np\n",
    "\n",
    "print('Dataset Stats')\n",
    "print('Roughly the number of unique words: {}'.format(len({word: None for word in text.split()})))\n",
    "scenes = text.split('\\n\\n')\n",
    "print('Number of scenes: {}'.format(len(scenes)))\n",
    "sentence_count_scene = [scene.count('\\n') for scene in scenes]\n",
    "print('Average number of sentences in each scene: {}'.format(np.average(sentence_count_scene)))\n",
    "\n",
    "sentences = [sentence for scene in scenes for sentence in scene.split('\\n')]\n",
    "print('Number of lines: {}'.format(len(sentences)))\n",
    "word_count_sentence = [len(sentence.split()) for sentence in sentences]\n",
    "print('Average number of words in each line: {}'.format(np.average(word_count_sentence)))\n",
    "\n",
    "print()\n",
    "print('The sentences {} to {}:'.format(*view_sentence_range))\n",
    "print('\\n'.join(text.split('\\n')[view_sentence_range[0]:view_sentence_range[1]]))"
   ]
  },
  {
   "cell_type": "markdown",
   "metadata": {},
   "source": [
    "## Implement Preprocessing Functions\n",
    "The first thing to do to any dataset is preprocessing.  Implement the following preprocessing functions below:\n",
    "- Lookup Table\n",
    "- Tokenize Punctuation\n",
    "\n",
    "### Lookup Table\n",
    "To create a word embedding, you first need to transform the words to ids.  In this function, create two dictionaries:\n",
    "- Dictionary to go from the words to an id, we'll call `vocab_to_int`\n",
    "- Dictionary to go from the id to word, we'll call `int_to_vocab`\n",
    "\n",
    "Return these dictionaries in the following tuple `(vocab_to_int, int_to_vocab)`"
   ]
  },
  {
   "cell_type": "code",
   "execution_count": 4,
   "metadata": {},
   "outputs": [
    {
     "name": "stdout",
     "output_type": "stream",
     "text": [
      "Tests Passed\n"
     ]
    }
   ],
   "source": [
    "import numpy as np\n",
    "import problem_unittests as tests\n",
    "\n",
    "def create_lookup_tables(text):\n",
    "    \"\"\"\n",
    "    Create lookup tables for vocabulary\n",
    "    :param text: The text of tv scripts split into words\n",
    "    :return: A tuple of dicts (vocab_to_int, int_to_vocab)\n",
    "    \"\"\"\n",
    "    # TODO: Implement Function\n",
    "    #print(type(text))\n",
    "    vocab_to_int = {}\n",
    "    int_to_vocab = {}\n",
    "    n = 0 #id应该是从0开始的吧？\n",
    "    for i in range(len(text)):\n",
    "        if text[i] not in vocab_to_int:\n",
    "            vocab_to_int[text[i]] = n\n",
    "            int_to_vocab[n] =  text[i]\n",
    "            n = n+1\n",
    "    return (vocab_to_int,int_to_vocab)\n",
    "\n",
    "\n",
    "\"\"\"\n",
    "DON'T MODIFY ANYTHING IN THIS CELL THAT IS BELOW THIS LINE\n",
    "\"\"\"\n",
    "tests.test_create_lookup_tables(create_lookup_tables)"
   ]
  },
  {
   "cell_type": "markdown",
   "metadata": {},
   "source": [
    "### Tokenize Punctuation\n",
    "We'll be splitting the script into a word array using spaces as delimiters.  However, punctuations like periods and exclamation marks make it hard for the neural network to distinguish between the word \"bye\" and \"bye!\".\n",
    "\n",
    "Implement the function `token_lookup` to return a dict that will be used to tokenize symbols like \"!\" into \"||Exclamation_Mark||\".  Create a dictionary for the following symbols where the symbol is the key and value is the token:\n",
    "- Period ( . )\n",
    "- Comma ( , )\n",
    "- Quotation Mark ( \" )\n",
    "- Semicolon ( ; )\n",
    "- Exclamation mark ( ! )\n",
    "- Question mark ( ? )\n",
    "- Left Parentheses ( ( )\n",
    "- Right Parentheses ( ) )\n",
    "- Dash ( -- )\n",
    "- Return ( \\n )\n",
    "\n",
    "This dictionary will be used to token the symbols and add the delimiter (space) around it.  This separates the symbols as it's own word, making it easier for the neural network to predict on the next word. Make sure you don't use a token that could be confused as a word. Instead of using the token \"dash\", try using something like \"||dash||\"."
   ]
  },
  {
   "cell_type": "code",
   "execution_count": 5,
   "metadata": {},
   "outputs": [
    {
     "name": "stdout",
     "output_type": "stream",
     "text": [
      "Tests Passed\n"
     ]
    }
   ],
   "source": [
    "def token_lookup():\n",
    "    \"\"\"\n",
    "    Generate a dict to turn punctuation into a token.\n",
    "    :return: Tokenize dictionary where the key is the punctuation and the value is the token\n",
    "    \"\"\"\n",
    "    # TODO: Implement Function\n",
    "    token_dict = {'.':'||period||',\",\":\"||comma||\",'\"':'||quotation_mark||',';':'||semicolon||','!':'||exclamation_mark||',\\\n",
    "                 '?':'||question_mark||','(':'||left_parentheses',')':'||right_parentheses||','--':'||dash||','\\n':'||return||'}\n",
    "    return token_dict\n",
    "\n",
    "\"\"\"\n",
    "DON'T MODIFY ANYTHING IN THIS CELL THAT IS BELOW THIS LINE\n",
    "\"\"\"\n",
    "tests.test_tokenize(token_lookup)"
   ]
  },
  {
   "cell_type": "markdown",
   "metadata": {},
   "source": [
    "## Preprocess all the data and save it\n",
    "Running the code cell below will preprocess all the data and save it to file."
   ]
  },
  {
   "cell_type": "code",
   "execution_count": 6,
   "metadata": {
    "collapsed": true
   },
   "outputs": [],
   "source": [
    "\"\"\"\n",
    "DON'T MODIFY ANYTHING IN THIS CELL\n",
    "\"\"\"\n",
    "# Preprocess Training, Validation, and Testing Data\n",
    "helper.preprocess_and_save_data(data_dir, token_lookup, create_lookup_tables)"
   ]
  },
  {
   "cell_type": "markdown",
   "metadata": {},
   "source": [
    "# Check Point\n",
    "This is your first checkpoint. If you ever decide to come back to this notebook or have to restart the notebook, you can start from here. The preprocessed data has been saved to disk."
   ]
  },
  {
   "cell_type": "code",
   "execution_count": 2,
   "metadata": {
    "collapsed": true
   },
   "outputs": [],
   "source": [
    "\"\"\"\n",
    "DON'T MODIFY ANYTHING IN THIS CELL\n",
    "\"\"\"\n",
    "import helper\n",
    "import numpy as np\n",
    "import problem_unittests as tests\n",
    "\n",
    "int_text, vocab_to_int, int_to_vocab, token_dict = helper.load_preprocess()"
   ]
  },
  {
   "cell_type": "markdown",
   "metadata": {},
   "source": [
    "## Build the Neural Network\n",
    "You'll build the components necessary to build a RNN by implementing the following functions below:\n",
    "- get_inputs\n",
    "- get_init_cell\n",
    "- get_embed\n",
    "- build_rnn\n",
    "- build_nn\n",
    "- get_batches\n",
    "\n",
    "### Check the Version of TensorFlow and Access to GPU"
   ]
  },
  {
   "cell_type": "code",
   "execution_count": 8,
   "metadata": {},
   "outputs": [
    {
     "name": "stdout",
     "output_type": "stream",
     "text": [
      "TensorFlow Version: 1.1.0\n",
      "Default GPU Device: /gpu:0\n"
     ]
    }
   ],
   "source": [
    "\"\"\"\n",
    "DON'T MODIFY ANYTHING IN THIS CELL\n",
    "\"\"\"\n",
    "from distutils.version import LooseVersion\n",
    "import warnings\n",
    "import tensorflow as tf\n",
    "\n",
    "# Check TensorFlow Version\n",
    "assert LooseVersion(tf.__version__) >= LooseVersion('1.0'), 'Please use TensorFlow version 1.0 or newer'\n",
    "print('TensorFlow Version: {}'.format(tf.__version__))\n",
    "\n",
    "# Check for a GPU\n",
    "if not tf.test.gpu_device_name():\n",
    "    warnings.warn('No GPU found. Please use a GPU to train your neural network.')\n",
    "else:\n",
    "    print('Default GPU Device: {}'.format(tf.test.gpu_device_name()))"
   ]
  },
  {
   "cell_type": "markdown",
   "metadata": {},
   "source": [
    "### Input\n",
    "Implement the `get_inputs()` function to create TF Placeholders for the Neural Network.  It should create the following placeholders:\n",
    "- Input text placeholder named \"input\" using the [TF Placeholder](https://www.tensorflow.org/api_docs/python/tf/placeholder) `name` parameter.\n",
    "- Targets placeholder\n",
    "- Learning Rate placeholder\n",
    "\n",
    "Return the placeholders in the following tuple `(Input, Targets, LearningRate)`"
   ]
  },
  {
   "cell_type": "code",
   "execution_count": 9,
   "metadata": {},
   "outputs": [
    {
     "name": "stdout",
     "output_type": "stream",
     "text": [
      "Tests Passed\n"
     ]
    }
   ],
   "source": [
    "def get_inputs():\n",
    "    \"\"\"\n",
    "    Create TF Placeholders for input, targets, and learning rate.\n",
    "    :return: Tuple (input, targets, learning rate)\n",
    "    \"\"\"\n",
    "    # TODO: Implement Function\n",
    "    #知识点在3.1.9\n",
    "    learning_rate = tf.placeholder(tf.float32)\n",
    "    inputs = tf.placeholder(tf.int32,shape = [None,None],name = 'input')\n",
    "    targets = tf.placeholder(tf.int32,shape = [None,None])\n",
    "\n",
    "    return (inputs,targets,learning_rate)\n",
    "\n",
    "\n",
    "\"\"\"\n",
    "DON'T MODIFY ANYTHING IN THIS CELL THAT IS BELOW THIS LINE\n",
    "\"\"\"\n",
    "tests.test_get_inputs(get_inputs)"
   ]
  },
  {
   "cell_type": "markdown",
   "metadata": {},
   "source": [
    "### Build RNN Cell and Initialize\n",
    "Stack one or more [`BasicLSTMCells`](https://www.tensorflow.org/api_docs/python/tf/contrib/rnn/BasicLSTMCell) in a [`MultiRNNCell`](https://www.tensorflow.org/api_docs/python/tf/contrib/rnn/MultiRNNCell).\n",
    "- The Rnn size should be set using `rnn_size`\n",
    "- Initalize Cell State using the MultiRNNCell's [`zero_state()`](https://www.tensorflow.org/api_docs/python/tf/contrib/rnn/MultiRNNCell#zero_state) function\n",
    "    - Apply the name \"initial_state\" to the initial state using [`tf.identity()`](https://www.tensorflow.org/api_docs/python/tf/identity)\n",
    "\n",
    "Return the cell and initial state in the following tuple `(Cell, InitialState)`"
   ]
  },
  {
   "cell_type": "code",
   "execution_count": 10,
   "metadata": {},
   "outputs": [
    {
     "name": "stdout",
     "output_type": "stream",
     "text": [
      "Tests Passed\n"
     ]
    }
   ],
   "source": [
    "def get_init_cell(batch_size, rnn_size):\n",
    "    \"\"\"\n",
    "    Create an RNN Cell and initialize it.\n",
    "    :param batch_size: Size of batches\n",
    "    :param rnn_size: Size of RNNs\n",
    "    :return: Tuple (cell, initialize state)\n",
    "    \"\"\"\n",
    "    # TODO: Implement Function\n",
    "    #知识点在3.1.9\n",
    "    #https://github.com/tensorflow/tensorflow/issues/8191#issuecomment-292881312关于reuse的问题\n",
    "    '''import inspect\n",
    "    if 'reuse' in inspect.getargspec(tf.contrib.rnn.BasicLSTMCell.__init__).args:\n",
    "        lstm = tf.contrib.rnn.BasicLSTMCell(rnn_size,reuse=True)\n",
    "    else:\n",
    "        lstm = tf.contrib.rnn.BasicLSTMCell(rnn_size)'''\n",
    "    \n",
    "    #lstm = tf.contrib.rnn.BasicLSTMCell(rnn_size)\n",
    "    #cell = tf.contrib.rnn.MultiRNNCell([lstm]*2)\n",
    "    \n",
    "    cells=[]\n",
    "    for _ in range(2):\n",
    "        cells.append(tf.contrib.rnn.BasicLSTMCell(rnn_size))\n",
    "    multicell = tf.contrib.rnn.MultiRNNCell(cells)\n",
    "    initial_state = tf.identity(multicell.zero_state(batch_size, tf.float32),name='initial_state')\n",
    "    return (multicell, initial_state)\n",
    "\n",
    "\n",
    "\"\"\"\n",
    "DON'T MODIFY ANYTHING IN THIS CELL THAT IS BELOW THIS LINE\n",
    "\"\"\"\n",
    "tests.test_get_init_cell(get_init_cell)"
   ]
  },
  {
   "cell_type": "markdown",
   "metadata": {},
   "source": [
    "### Word Embedding\n",
    "Apply embedding to `input_data` using TensorFlow.  Return the embedded sequence."
   ]
  },
  {
   "cell_type": "code",
   "execution_count": 11,
   "metadata": {},
   "outputs": [
    {
     "name": "stdout",
     "output_type": "stream",
     "text": [
      "Tests Passed\n"
     ]
    }
   ],
   "source": [
    "def get_embed(input_data, vocab_size, embed_dim):\n",
    "    \"\"\"\n",
    "    Create embedding for <input_data>.\n",
    "    :param input_data: TF placeholder for text input.\n",
    "    :param vocab_size: Number of words in vocabulary.\n",
    "    :param embed_dim: Number of embedding dimensions\n",
    "    :return: Embedded input.\n",
    "    \"\"\"\n",
    "    # TODO: Implement Function\n",
    "    embedding = tf.Variable(tf.random_uniform((vocab_size,embed_dim),-0.1,0.1))\n",
    "    #17/09/08将random_uniform改成truncated_normal，因为似乎这个权值也是会被调整的。\n",
    "    #17/09/09又改回random_uniform了，因为似乎没有什么影响\n",
    "    '''\n",
    "    Instead of doing the matrix multiplication, we use the weight matrix as a lookup table.\n",
    "    We encode the words as integers, for example \"heart\" is encoded as 958, \"mind\" as 18094.\n",
    "    Then to get hidden layer values for \"heart\", you just take the 958th row of the embedding matrix.\n",
    "    This process is called an embedding lookup and the number of hidden units is the embedding dimension.\n",
    "    The lookup table is trained just like any weight matrix as well.\n",
    "    '''\n",
    "    embed = tf.nn.embedding_lookup(embedding,input_data)\n",
    "    return embed\n",
    "\n",
    "\n",
    "\"\"\"\n",
    "DON'T MODIFY ANYTHING IN THIS CELL THAT IS BELOW THIS LINE\n",
    "\"\"\"\n",
    "tests.test_get_embed(get_embed)"
   ]
  },
  {
   "cell_type": "markdown",
   "metadata": {},
   "source": [
    "### Build RNN\n",
    "You created a RNN Cell in the `get_init_cell()` function.  Time to use the cell to create a RNN.\n",
    "- Build the RNN using the [`tf.nn.dynamic_rnn()`](https://www.tensorflow.org/api_docs/python/tf/nn/dynamic_rnn)\n",
    " - Apply the name \"final_state\" to the final state using [`tf.identity()`](https://www.tensorflow.org/api_docs/python/tf/identity)\n",
    "\n",
    "Return the outputs and final_state state in the following tuple `(Outputs, FinalState)` "
   ]
  },
  {
   "cell_type": "code",
   "execution_count": 12,
   "metadata": {},
   "outputs": [
    {
     "name": "stdout",
     "output_type": "stream",
     "text": [
      "Tests Passed\n"
     ]
    }
   ],
   "source": [
    "def build_rnn(cell, inputs):\n",
    "    \"\"\"\n",
    "    Create a RNN using a RNN Cell\n",
    "    :param cell: RNN Cell\n",
    "    :param inputs: Input text data\n",
    "    :return: Tuple (Outputs, Final State)\n",
    "    \"\"\"\n",
    "    # TODO: Implement Function\n",
    "    #3.10.7\n",
    "    outputs,final_state = tf.nn.dynamic_rnn(cell=cell,dtype=tf.float32,inputs=inputs)\n",
    "    final_state = tf.identity(final_state,'final_state')\n",
    "    return outputs, final_state\n",
    "\n",
    "\n",
    "\"\"\"\n",
    "DON'T MODIFY ANYTHING IN THIS CELL THAT IS BELOW THIS LINE\n",
    "\"\"\"\n",
    "tests.test_build_rnn(build_rnn)"
   ]
  },
  {
   "cell_type": "markdown",
   "metadata": {},
   "source": [
    "### Build the Neural Network\n",
    "Apply the functions you implemented above to:\n",
    "- Apply embedding to `input_data` using your `get_embed(input_data, vocab_size, embed_dim)` function.\n",
    "- Build RNN using `cell` and your `build_rnn(cell, inputs)` function.\n",
    "- Apply a fully connected layer with a linear activation and `vocab_size` as the number of outputs.\n",
    "\n",
    "Return the logits and final state in the following tuple (Logits, FinalState) "
   ]
  },
  {
   "cell_type": "code",
   "execution_count": 13,
   "metadata": {},
   "outputs": [
    {
     "name": "stdout",
     "output_type": "stream",
     "text": [
      "Tests Passed\n"
     ]
    }
   ],
   "source": [
    "def build_nn(cell, rnn_size, input_data, vocab_size, embed_dim):\n",
    "    \"\"\"\n",
    "    Build part of the neural network\n",
    "    :param cell: RNN cell\n",
    "    :param rnn_size: Size of rnns\n",
    "    :param input_data: Input data\n",
    "    :param vocab_size: Vocabulary size\n",
    "    :param embed_dim: Number of embedding dimensions\n",
    "    :return: Tuple (Logits, FinalState)\n",
    "    \"\"\"\n",
    "    # TODO: Implement Function\n",
    "    inputs = get_embed(input_data,vocab_size,embed_dim)\n",
    "    outputs,final_state = build_rnn(cell,inputs)\n",
    "    logits = tf.contrib.layers.fully_connected(outputs,\n",
    "                                               vocab_size, \n",
    "                                               activation_fn= None,\n",
    "                                               weights_initializer= tf.truncated_normal_initializer(stddev=0.01))\n",
    "    # 注意权重的初始化！\n",
    "    # 2017/09/09 突然明白了，题目要求里的linear activation指的就是fully connected layer，因为线性函数做的事情就是 wx +b\n",
    "    # 所以不需要再加入额外的激活函数。\n",
    "    # 2017/09/11 大概前天理解的是错的。ReLu确实不是线性激活函数，但是activation_fn的默认值是ReLu...\n",
    "    # The default value is a ReLU function. Explicitly set it to None to skip it and maintain a linear activation.\n",
    "    # 但是问题来了，为什么这里要用线性激活函数呢？非线性是否减少了权重调整的空间？\n",
    "    return logits, final_state\n",
    "\n",
    "\n",
    "\"\"\"\n",
    "DON'T MODIFY ANYTHING IN THIS CELL THAT IS BELOW THIS LINE\n",
    "\"\"\"\n",
    "tests.test_build_nn(build_nn)"
   ]
  },
  {
   "cell_type": "markdown",
   "metadata": {},
   "source": [
    "### Batches\n",
    "Implement `get_batches` to create batches of input and targets using `int_text`.  The batches should be a Numpy array with the shape `(number of batches, 2, batch size, sequence length)`. Each batch contains two elements:\n",
    "- The first element is a single batch of **input** with the shape `[batch size, sequence length]`\n",
    "- The second element is a single batch of **targets** with the shape `[batch size, sequence length]`\n",
    "\n",
    "If you can't fill the last batch with enough data, drop the last batch.\n",
    "\n",
    "For exmple, `get_batches([1, 2, 3, 4, 5, 6, 7, 8, 9, 10, 11, 12, 13, 14, 15, 16, 17, 18, 19, 20], 3, 2)` would return a Numpy array of the following:\n",
    "```\n",
    "[\n",
    "  # First Batch\n",
    "  [\n",
    "    # Batch of Input\n",
    "    [[ 1  2], [ 7  8], [13 14]]\n",
    "    # Batch of targets\n",
    "    [[ 2  3], [ 8  9], [14 15]]\n",
    "  ]\n",
    "\n",
    "  # Second Batch\n",
    "  [\n",
    "    # Batch of Input\n",
    "    [[ 3  4], [ 9 10], [15 16]]\n",
    "    # Batch of targets\n",
    "    [[ 4  5], [10 11], [16 17]]\n",
    "  ]\n",
    "\n",
    "  # Third Batch\n",
    "  [\n",
    "    # Batch of Input\n",
    "    [[ 5  6], [11 12], [17 18]]\n",
    "    # Batch of targets\n",
    "    [[ 6  7], [12 13], [18  1]]\n",
    "  ]\n",
    "]\n",
    "```\n",
    "\n",
    "Notice that the last target value in the last batch is the first input value of the first batch. In this case, `1`. This is a common technique used when creating sequence batches, although it is rather unintuitive."
   ]
  },
  {
   "cell_type": "code",
   "execution_count": 19,
   "metadata": {},
   "outputs": [
    {
     "name": "stdout",
     "output_type": "stream",
     "text": [
      "Tests Passed\n"
     ]
    }
   ],
   "source": [
    "def get_batches(int_text, batch_size, seq_length):\n",
    "    \"\"\"\n",
    "    Return batches of input and target\n",
    "    :param int_text: Text with the words replaced by their ids\n",
    "    :param batch_size: The size of batch\n",
    "    :param seq_length: The length of sequence\n",
    "    :return: Batches as a Numpy array\n",
    "    \"\"\"\n",
    "   \n",
    "    '''#3.10.6可供参考。不过并没有什么用。\n",
    "    n_batches = len(int_text)//(seq_length*batch_size) \n",
    "    int_text = int_text[:n_batches*seq_length*batch_size]\n",
    "    orign_batches = []\n",
    "    #先做成一个list再reshape\n",
    "    for n in range(n_batches):\n",
    "        for nn in range(0,2):        \n",
    "            for i in range(0,len(int_text),len(int_text)//batch_size):     \n",
    "                for ii in range(0,seq_length):\n",
    "                    #print(n,nn,i,ii)\n",
    "                    if n*seq_length+nn+i+ii>=len(int_text):\n",
    "                        orign_batches.append(int_text[0])\n",
    "                    else:\n",
    "                        orign_batches.append(int_text[i+nn+ii+n*seq_length])\n",
    "    batches = np.array(orign_batches)\n",
    "    #print(batches)\n",
    "    batches = batches.reshape((n_batches,2,batch_size,seq_length))\n",
    "    return batches\n",
    "    #总结一下：有几个维度就有几个循环，一定要先分析清楚目标（batch）结构与参数的关系\n",
    "    #此处有单个难点，一是batch的个数以及int_text应该drop到哪里；二是，每一个input_batch里，各组seq之间的距离；三是两个input_batch\n",
    "    #之间的距离。'''\n",
    "    \n",
    "    # TODO: Implement Function\n",
    "    # 新方法！使用np数组写出更简洁的代码！\n",
    "    n_batches = int(len(int_text) / (batch_size * seq_length))\n",
    "\n",
    "    int_text = np.array(int_text[: n_batches * batch_size * seq_length])\n",
    "    target_text = np.concatenate((int_text[1:],(int_text[0],)))\n",
    "    \n",
    "    input_batches = np.split(int_text.reshape(batch_size, -1), n_batches, 1)\n",
    "    output_batches = np.split(target_text.reshape(batch_size, -1), n_batches, 1)\n",
    "\n",
    "    return np.array(list(zip(input_batches,output_batches)))\n",
    "\"\"\"\n",
    "DON'T MODIFY ANYTHING IN THIS CELL THAT IS BELOW THIS LINE\n",
    "\"\"\"\n",
    "tests.test_get_batches(get_batches)"
   ]
  },
  {
   "cell_type": "markdown",
   "metadata": {},
   "source": [
    "## Neural Network Training\n",
    "### Hyperparameters\n",
    "Tune the following parameters:\n",
    "\n",
    "- Set `num_epochs` to the number of epochs.\n",
    "- Set `batch_size` to the batch size.\n",
    "- Set `rnn_size` to the size of the RNNs.\n",
    "- Set `embed_dim` to the size of the embedding.\n",
    "- Set `seq_length` to the length of sequence.\n",
    "- Set `learning_rate` to the learning rate.\n",
    "- Set `show_every_n_batches` to the number of batches the neural network should print progress."
   ]
  },
  {
   "cell_type": "code",
   "execution_count": 27,
   "metadata": {
    "collapsed": true
   },
   "outputs": [],
   "source": [
    "# Number of Epochs\n",
    "num_epochs = 200\n",
    "# 早期停止技术，比如如果连续20次都没有下降，就停止\n",
    "# you should be able to achieve the desired loss in far few epochs. You can probably decrease your value by a factor of 10\n",
    "# 从2000，减少到200\n",
    "# Batch Size\n",
    "batch_size = 256\n",
    "# RNN Size\n",
    "rnn_size = 256\n",
    "#[256,256]\n",
    "#如果隐藏层的神经元数量太多，会看到训练集准确率远高于验证集的，那么说明你过拟合了。反之，太少的话，模型就没有足够的学习能力去处理相应的问题。\n",
    "#减少神经元的数量和正则化技术可以帮助这一点，正则化技术包括弃权和L2正则化两种。好的思路是，持续添加神经元直到验证集的误差开始变大。\n",
    "#一个经验是，将第一个隐藏层的神经元数设定为高于输入数，是一个好的选择\n",
    "#三层隐藏层就差不多了，再往上增加得到的收益不高（卷积神经网络除外）\n",
    "# Embedding Dimension Size\n",
    "embed_dim = 256\n",
    "# Sequence Length\n",
    "seq_length = 12\n",
    "# Learning Rate\n",
    "learning_rate = 0.004\n",
    "# 0.1~0.0000001，可以一半一半地改变，也可以10倍10倍地改变。过大会发散，过小会需要太多的echo，如果在某一块震荡，说明太大。\n",
    "#一般用学习率衰减技术learning rate decay。或者自适应adaptive.\n",
    "# Show stats for every n number of batches\n",
    "# 17/09/11 将learning rate从0.01降低到0.005，可能可以降低 final loss\n",
    "show_every_n_batches = 32\n",
    "\n",
    "# origin: uniform: 1, fully:0.001\n",
    "# (300,256,64,64,32,0.01) = 3.95\n",
    "# (300,256,256,256,16,0.01) = 2.516 /然后开始每三次0.001地往下减\n",
    "# (400,256,256,256,32,0.01) = 2.165/ when ehco= 300, loss= 2.18，\n",
    "# (1000,256,256,256,124,0.01) = 1.83 /Epoch 400, train_loss = 2.090 结尾有挺大的振动\n",
    "# (368,256,256,256,124,0.1) = 4.1 /Epoch 256, train_loss = 4.376\n",
    "# 权值初始化\n",
    "# (700,256,256,256,64,0.1, uniform:0.1) = 1.995 /Epoch 256, train_loss = 2.845\n",
    "# (700,256,256,256,64,0.1, uniform:0.01) = 2.1 /Epoch 256, train_loss = 3.396\n",
    "# (1000,256,256,256,124,0.01, uniform:0.1, fully:0.01) = 1.863  /Epoch 256,train_loss = 3.491不错，到后面还是继续在降低不像1.83\n",
    "# (1800,256,256,256,100,0.1, uniform:0.1, fully:0.01) =? /Epoch 256,train_loss = 4.332太慢了，lr提高之后学习速率反而降低了= =？\n",
    "# (1800,256,256,256,32,0.01, 0.1,0.01) = 振动有点大， 不如seq_length取100 的时候效果好\n",
    "\n",
    "# 17/09/11 seq_length的长度应该与一句话的平均长度差不多（见数据探索），从100改成12.\n",
    "# (200,256,256,256,12,0.004, 0.1,0.01) = 0.29\n",
    "\"\"\"\n",
    "DON'T MODIFY ANYTHING IN THIS CELL THAT IS BELOW THIS LINE\n",
    "\"\"\"\n",
    "save_dir = './save'"
   ]
  },
  {
   "cell_type": "markdown",
   "metadata": {},
   "source": [
    "### Build the Graph\n",
    "Build the graph using the neural network you implemented."
   ]
  },
  {
   "cell_type": "code",
   "execution_count": 28,
   "metadata": {
    "collapsed": true
   },
   "outputs": [],
   "source": [
    "\"\"\"\n",
    "DON'T MODIFY ANYTHING IN THIS CELL\n",
    "\"\"\"\n",
    "from tensorflow.contrib import seq2seq\n",
    "\n",
    "train_graph = tf.Graph()\n",
    "with train_graph.as_default():\n",
    "    vocab_size = len(int_to_vocab)\n",
    "    input_text, targets, lr = get_inputs()\n",
    "    input_data_shape = tf.shape(input_text)\n",
    "    cell, initial_state = get_init_cell(input_data_shape[0], rnn_size)\n",
    "    logits, final_state = build_nn(cell, rnn_size, input_text, vocab_size, embed_dim)\n",
    "\n",
    "    # Probabilities for generating words\n",
    "    probs = tf.nn.softmax(logits, name='probs')\n",
    "\n",
    "    # Loss function\n",
    "    cost = seq2seq.sequence_loss(\n",
    "        logits,\n",
    "        targets,\n",
    "        tf.ones([input_data_shape[0], input_data_shape[1]]))\n",
    "\n",
    "    # Optimizer\n",
    "    optimizer = tf.train.AdamOptimizer(lr)\n",
    "\n",
    "    # Gradient Clipping\n",
    "    gradients = optimizer.compute_gradients(cost)\n",
    "    capped_gradients = [(tf.clip_by_value(grad, -1., 1.), var) for grad, var in gradients if grad is not None]\n",
    "    train_op = optimizer.apply_gradients(capped_gradients)"
   ]
  },
  {
   "cell_type": "markdown",
   "metadata": {},
   "source": [
    "## Train\n",
    "Train the neural network on the preprocessed data.  If you have a hard time getting a good loss, check the [forms](https://discussions.udacity.com/) to see if anyone is having the same problem."
   ]
  },
  {
   "cell_type": "code",
   "execution_count": 29,
   "metadata": {
    "scrolled": true
   },
   "outputs": [
    {
     "name": "stdout",
     "output_type": "stream",
     "text": [
      "Epoch   0 Batc h    0/22   train_loss = 8.822\n",
      "Epoch   1 Batc h   10/22   train_loss = 6.062\n",
      "Epoch   2 Batc h   20/22   train_loss = 6.104\n",
      "Epoch   4 Batc h    8/22   train_loss = 6.103\n",
      "Epoch   5 Batc h   18/22   train_loss = 5.933\n",
      "Epoch   7 Batc h    6/22   train_loss = 5.793\n",
      "Epoch   8 Batc h   16/22   train_loss = 5.758\n",
      "Epoch  10 Batc h    4/22   train_loss = 5.642\n",
      "Epoch  11 Batc h   14/22   train_loss = 5.566\n",
      "Epoch  13 Batc h    2/22   train_loss = 5.205\n",
      "Epoch  14 Batc h   12/22   train_loss = 5.123\n",
      "Epoch  16 Batc h    0/22   train_loss = 4.893\n",
      "Epoch  17 Batc h   10/22   train_loss = 4.886\n",
      "Epoch  18 Batc h   20/22   train_loss = 4.751\n",
      "Epoch  20 Batc h    8/22   train_loss = 4.649\n",
      "Epoch  21 Batc h   18/22   train_loss = 4.532\n",
      "Epoch  23 Batc h    6/22   train_loss = 4.318\n",
      "Epoch  24 Batc h   16/22   train_loss = 4.215\n",
      "Epoch  26 Batc h    4/22   train_loss = 4.037\n",
      "Epoch  27 Batc h   14/22   train_loss = 4.084\n",
      "Epoch  29 Batc h    2/22   train_loss = 3.811\n",
      "Epoch  30 Batc h   12/22   train_loss = 3.765\n",
      "Epoch  32 Batc h    0/22   train_loss = 3.652\n",
      "Epoch  33 Batc h   10/22   train_loss = 3.555\n",
      "Epoch  34 Batc h   20/22   train_loss = 3.375\n",
      "Epoch  36 Batc h    8/22   train_loss = 3.331\n",
      "Epoch  37 Batc h   18/22   train_loss = 3.290\n",
      "Epoch  39 Batc h    6/22   train_loss = 3.079\n",
      "Epoch  40 Batc h   16/22   train_loss = 2.965\n",
      "Epoch  42 Batc h    4/22   train_loss = 2.842\n",
      "Epoch  43 Batc h   14/22   train_loss = 2.864\n",
      "Epoch  45 Batc h    2/22   train_loss = 2.702\n",
      "Epoch  46 Batc h   12/22   train_loss = 2.622\n",
      "Epoch  48 Batc h    0/22   train_loss = 2.530\n",
      "Epoch  49 Batc h   10/22   train_loss = 2.431\n",
      "Epoch  50 Batc h   20/22   train_loss = 2.262\n",
      "Epoch  52 Batc h    8/22   train_loss = 2.212\n",
      "Epoch  53 Batc h   18/22   train_loss = 2.241\n",
      "Epoch  55 Batc h    6/22   train_loss = 2.058\n",
      "Epoch  56 Batc h   16/22   train_loss = 2.063\n",
      "Epoch  58 Batc h    4/22   train_loss = 1.979\n",
      "Epoch  59 Batc h   14/22   train_loss = 1.951\n",
      "Epoch  61 Batc h    2/22   train_loss = 1.882\n",
      "Epoch  62 Batc h   12/22   train_loss = 1.813\n",
      "Epoch  64 Batc h    0/22   train_loss = 1.732\n",
      "Epoch  65 Batc h   10/22   train_loss = 1.682\n",
      "Epoch  66 Batc h   20/22   train_loss = 1.584\n",
      "Epoch  68 Batc h    8/22   train_loss = 1.507\n",
      "Epoch  69 Batc h   18/22   train_loss = 1.515\n",
      "Epoch  71 Batc h    6/22   train_loss = 1.387\n",
      "Epoch  72 Batc h   16/22   train_loss = 1.331\n",
      "Epoch  74 Batc h    4/22   train_loss = 1.246\n",
      "Epoch  75 Batc h   14/22   train_loss = 1.220\n",
      "Epoch  77 Batc h    2/22   train_loss = 1.241\n",
      "Epoch  78 Batc h   12/22   train_loss = 1.200\n",
      "Epoch  80 Batc h    0/22   train_loss = 1.183\n",
      "Epoch  81 Batc h   10/22   train_loss = 1.154\n",
      "Epoch  82 Batc h   20/22   train_loss = 1.021\n",
      "Epoch  84 Batc h    8/22   train_loss = 0.964\n",
      "Epoch  85 Batc h   18/22   train_loss = 1.027\n",
      "Epoch  87 Batc h    6/22   train_loss = 0.963\n",
      "Epoch  88 Batc h   16/22   train_loss = 1.033\n",
      "Epoch  90 Batc h    4/22   train_loss = 1.015\n",
      "Epoch  91 Batc h   14/22   train_loss = 0.990\n",
      "Epoch  93 Batc h    2/22   train_loss = 0.954\n",
      "Epoch  94 Batc h   12/22   train_loss = 0.932\n",
      "Epoch  96 Batc h    0/22   train_loss = 0.830\n",
      "Epoch  97 Batc h   10/22   train_loss = 0.777\n",
      "Epoch  98 Batc h   20/22   train_loss = 0.690\n",
      "Epoch 100 Batc h    8/22   train_loss = 0.634\n",
      "Epoch 101 Batc h   18/22   train_loss = 0.649\n",
      "Epoch 103 Batc h    6/22   train_loss = 0.607\n",
      "Epoch 104 Batc h   16/22   train_loss = 0.616\n",
      "Epoch 106 Batc h    4/22   train_loss = 0.601\n",
      "Epoch 107 Batc h   14/22   train_loss = 0.599\n",
      "Epoch 109 Batc h    2/22   train_loss = 0.606\n",
      "Epoch 110 Batc h   12/22   train_loss = 0.581\n",
      "Epoch 112 Batc h    0/22   train_loss = 0.561\n",
      "Epoch 113 Batc h   10/22   train_loss = 0.529\n",
      "Epoch 114 Batc h   20/22   train_loss = 0.477\n",
      "Epoch 116 Batc h    8/22   train_loss = 0.422\n",
      "Epoch 117 Batc h   18/22   train_loss = 0.443\n",
      "Epoch 119 Batc h    6/22   train_loss = 0.443\n",
      "Epoch 120 Batc h   16/22   train_loss = 0.437\n",
      "Epoch 122 Batc h    4/22   train_loss = 0.440\n",
      "Epoch 123 Batc h   14/22   train_loss = 0.430\n",
      "Epoch 125 Batc h    2/22   train_loss = 0.456\n",
      "Epoch 126 Batc h   12/22   train_loss = 0.439\n",
      "Epoch 128 Batc h    0/22   train_loss = 0.430\n",
      "Epoch 129 Batc h   10/22   train_loss = 0.439\n",
      "Epoch 130 Batc h   20/22   train_loss = 0.408\n",
      "Epoch 132 Batc h    8/22   train_loss = 0.371\n",
      "Epoch 133 Batc h   18/22   train_loss = 0.396\n",
      "Epoch 135 Batc h    6/22   train_loss = 0.447\n",
      "Epoch 136 Batc h   16/22   train_loss = 0.458\n",
      "Epoch 138 Batc h    4/22   train_loss = 0.461\n",
      "Epoch 139 Batc h   14/22   train_loss = 0.434\n",
      "Epoch 141 Batc h    2/22   train_loss = 0.460\n",
      "Epoch 142 Batc h   12/22   train_loss = 0.440\n",
      "Epoch 144 Batc h    0/22   train_loss = 0.406\n",
      "Epoch 145 Batc h   10/22   train_loss = 0.408\n",
      "Epoch 146 Batc h   20/22   train_loss = 0.365\n",
      "Epoch 148 Batc h    8/22   train_loss = 0.329\n",
      "Epoch 149 Batc h   18/22   train_loss = 0.335\n",
      "Epoch 151 Batc h    6/22   train_loss = 0.347\n",
      "Epoch 152 Batc h   16/22   train_loss = 0.334\n",
      "Epoch 154 Batc h    4/22   train_loss = 0.343\n",
      "Epoch 155 Batc h   14/22   train_loss = 0.336\n",
      "Epoch 157 Batc h    2/22   train_loss = 0.355\n",
      "Epoch 158 Batc h   12/22   train_loss = 0.338\n",
      "Epoch 160 Batc h    0/22   train_loss = 0.331\n",
      "Epoch 161 Batc h   10/22   train_loss = 0.341\n",
      "Epoch 162 Batc h   20/22   train_loss = 0.314\n",
      "Epoch 164 Batc h    8/22   train_loss = 0.298\n",
      "Epoch 165 Batc h   18/22   train_loss = 0.300\n",
      "Epoch 167 Batc h    6/22   train_loss = 0.317\n",
      "Epoch 168 Batc h   16/22   train_loss = 0.314\n",
      "Epoch 170 Batc h    4/22   train_loss = 0.318\n",
      "Epoch 171 Batc h   14/22   train_loss = 0.305\n",
      "Epoch 173 Batc h    2/22   train_loss = 0.325\n",
      "Epoch 174 Batc h   12/22   train_loss = 0.310\n",
      "Epoch 176 Batc h    0/22   train_loss = 0.304\n",
      "Epoch 177 Batc h   10/22   train_loss = 0.317\n",
      "Epoch 178 Batc h   20/22   train_loss = 0.289\n",
      "Epoch 180 Batc h    8/22   train_loss = 0.284\n",
      "Epoch 181 Batc h   18/22   train_loss = 0.287\n",
      "Epoch 183 Batc h    6/22   train_loss = 0.300\n",
      "Epoch 184 Batc h   16/22   train_loss = 0.303\n",
      "Epoch 186 Batc h    4/22   train_loss = 0.309\n",
      "Epoch 187 Batc h   14/22   train_loss = 0.296\n",
      "Epoch 189 Batc h    2/22   train_loss = 0.314\n",
      "Epoch 190 Batc h   12/22   train_loss = 0.301\n",
      "Epoch 192 Batc h    0/22   train_loss = 0.296\n",
      "Epoch 193 Batc h   10/22   train_loss = 0.310\n",
      "Epoch 194 Batc h   20/22   train_loss = 0.283\n",
      "Epoch 196 Batc h    8/22   train_loss = 0.280\n",
      "Epoch 197 Batc h   18/22   train_loss = 0.282\n",
      "Epoch 199 Batc h    6/22   train_loss = 0.294\n",
      "Model Trained and Saved\n"
     ]
    }
   ],
   "source": [
    "\"\"\"\n",
    "DON'T MODIFY ANYTHING IN THIS CELL\n",
    "\"\"\"\n",
    "batches = get_batches(int_text, batch_size, seq_length)\n",
    "\n",
    "with tf.Session(graph=train_graph) as sess:\n",
    "    sess.run(tf.global_variables_initializer())\n",
    "\n",
    "    for epoch_i in range(num_epochs):\n",
    "        state = sess.run(initial_state, {input_text: batches[0][0]})\n",
    "\n",
    "        for batch_i, (x, y) in enumerate(batches):\n",
    "            feed = {\n",
    "                input_text: x,\n",
    "                targets: y,\n",
    "                initial_state: state,\n",
    "                lr: learning_rate}\n",
    "            train_loss, state, _ = sess.run([cost, final_state, train_op], feed)\n",
    "\n",
    "            # Show every <show_every_n_batches> batches\n",
    "            if (epoch_i * len(batches) + batch_i) % show_every_n_batches == 0:\n",
    "                print('Epoch {:>3} Batc h {:>4}/{}   train_loss = {:.3f}'.format(\n",
    "                    epoch_i,\n",
    "                    batch_i,\n",
    "                    len(batches),\n",
    "                    train_loss))\n",
    "\n",
    "    # Save Model\n",
    "    saver = tf.train.Saver()\n",
    "    saver.save(sess, save_dir)\n",
    "    print('Model Trained and Saved')"
   ]
  },
  {
   "cell_type": "markdown",
   "metadata": {},
   "source": [
    "## Save Parameters\n",
    "Save `seq_length` and `save_dir` for generating a new TV script."
   ]
  },
  {
   "cell_type": "code",
   "execution_count": 30,
   "metadata": {
    "collapsed": true
   },
   "outputs": [],
   "source": [
    "\"\"\"\n",
    "DON'T MODIFY ANYTHING IN THIS CELL\n",
    "\"\"\"\n",
    "# Save parameters for checkpoint\n",
    "helper.save_params((seq_length, save_dir))"
   ]
  },
  {
   "cell_type": "markdown",
   "metadata": {},
   "source": [
    "# Checkpoint"
   ]
  },
  {
   "cell_type": "code",
   "execution_count": 31,
   "metadata": {
    "collapsed": true
   },
   "outputs": [],
   "source": [
    "\"\"\"\n",
    "DON'T MODIFY ANYTHING IN THIS CELL\n",
    "\"\"\"\n",
    "import tensorflow as tf\n",
    "import numpy as np\n",
    "import helper\n",
    "import problem_unittests as tests\n",
    "\n",
    "_, vocab_to_int, int_to_vocab, token_dict = helper.load_preprocess()\n",
    "seq_length, load_dir = helper.load_params()"
   ]
  },
  {
   "cell_type": "markdown",
   "metadata": {},
   "source": [
    "## Implement Generate Functions\n",
    "### Get Tensors\n",
    "Get tensors from `loaded_graph` using the function [`get_tensor_by_name()`](https://www.tensorflow.org/api_docs/python/tf/Graph#get_tensor_by_name).  Get the tensors using the following names:\n",
    "- \"input:0\"\n",
    "- \"initial_state:0\"\n",
    "- \"final_state:0\"\n",
    "- \"probs:0\"\n",
    "\n",
    "Return the tensors in the following tuple `(InputTensor, InitialStateTensor, FinalStateTensor, ProbsTensor)` "
   ]
  },
  {
   "cell_type": "code",
   "execution_count": 32,
   "metadata": {},
   "outputs": [
    {
     "name": "stdout",
     "output_type": "stream",
     "text": [
      "Tests Passed\n"
     ]
    }
   ],
   "source": [
    "def get_tensors(loaded_graph):\n",
    "    \"\"\"\n",
    "    Get input, initial state, final state, and probabilities tensor from <loaded_graph>\n",
    "    :param loaded_graph: TensorFlow graph loaded from file\n",
    "    :return: Tuple (InputTensor, InitialStateTensor, FinalStateTensor, ProbsTensor)\n",
    "    \"\"\"\n",
    "    # TODO: Implement Function\n",
    "    InputTensor = loaded_graph.get_tensor_by_name(\"input:0\")\n",
    "    InitialStateTensor = loaded_graph.get_tensor_by_name(\"initial_state:0\")\n",
    "    FinalStateTensor = loaded_graph.get_tensor_by_name(\"final_state:0\")\n",
    "    ProbsTensor = loaded_graph.get_tensor_by_name(\"probs:0\")\n",
    "    return InputTensor, InitialStateTensor, FinalStateTensor, ProbsTensor\n",
    "\n",
    "\n",
    "\"\"\"\n",
    "DON'T MODIFY ANYTHING IN THIS CELL THAT IS BELOW THIS LINE\n",
    "\"\"\"\n",
    "tests.test_get_tensors(get_tensors)"
   ]
  },
  {
   "cell_type": "markdown",
   "metadata": {},
   "source": [
    "### Choose Word\n",
    "Implement the `pick_word()` function to select the next word using `probabilities`."
   ]
  },
  {
   "cell_type": "code",
   "execution_count": 33,
   "metadata": {},
   "outputs": [
    {
     "name": "stdout",
     "output_type": "stream",
     "text": [
      "Tests Passed\n"
     ]
    }
   ],
   "source": [
    "def pick_word(probabilities, int_to_vocab):\n",
    "    \"\"\"\n",
    "    Pick the next word in the generated text\n",
    "    :param probabilities: Probabilites of the next word\n",
    "    :param int_to_vocab: Dictionary of word ids as the keys and words as the values\n",
    "    :return: String of the predicted word\n",
    "    \"\"\"\n",
    "    #print(probabilities)\n",
    "    '''p = np.squeeze(preds)\n",
    "    p[np.argsort(p)[:-top_n]] = 0\n",
    "    p = p / np.sum(p)\n",
    "    c = np.random.choice(vocab_size, 1, p=p)[0]\n",
    "    return c'''\n",
    "    # np.argsort的功能是返回从小到大排列的array的index，squeeze\n",
    "    \n",
    "    # TODO: Implement Function\n",
    "    #word = int_to_vocab[np.argsort(probabilities)[:-1][0]]\n",
    "    #print(int_to_vocab,probabilities)\n",
    "    index = np.random.choice(range(len(probabilities)),p=probabilities)\n",
    "    word = int_to_vocab[index]\n",
    "    return word\n",
    "\n",
    "\n",
    "\"\"\"\n",
    "DON'T MODIFY ANYTHING IN THIS CELL THAT IS BELOW THIS LINE\n",
    "\"\"\"\n",
    "tests.test_pick_word(pick_word)"
   ]
  },
  {
   "cell_type": "markdown",
   "metadata": {},
   "source": [
    "## Generate TV Script\n",
    "This will generate the TV script for you.  Set `gen_length` to the length of TV script you want to generate."
   ]
  },
  {
   "cell_type": "code",
   "execution_count": 34,
   "metadata": {},
   "outputs": [
    {
     "name": "stdout",
     "output_type": "stream",
     "text": [
      "INFO:tensorflow:Restoring parameters from ./save\n",
      "moe_szyslak: huh. i got a window here.\n",
      "homer_simpson:(realizing) yeah.(half tv) oh, it is, dear great... who did you under song.\n",
      "moe_szyslak:(sobs) they are been the great sleigh-horses into jerky and.\n",
      "moe_szyslak: then as the moe!(quiet) quickly, the guys have a party is like an things for a dog for a romantic patterns. that's fat, wife like you might be right!\n",
      "bart_simpson: nothin' who like you learn to two torn.\n",
      "moe_szyslak: really?\n",
      "c. :.\n",
      "homer_simpson: see? x?\n",
      "moe_szyslak: i can't believe it, moe. the doctor time they are a coaster and your say, i've got a guts!\n",
      "moe_szyslak: i got in here.\n",
      "homer_simpson:(on tape, thoughtfully) if we did some twenty little so-called anywhere on and marge... what can be it an bad voice.\n",
      "moe_szyslak: i gave me a man who show him drunk?\n",
      "barney_gumble: i wanna see edna without you, i don't\n"
     ]
    }
   ],
   "source": [
    "gen_length = 200\n",
    "# homer_simpson, moe_szyslak, or Barney_Gumble\n",
    "prime_word = 'moe_szyslak'\n",
    "\n",
    "\"\"\"\n",
    "DON'T MODIFY ANYTHING IN THIS CELL THAT IS BELOW THIS LINE\n",
    "\"\"\"\n",
    "loaded_graph = tf.Graph()\n",
    "with tf.Session(graph=loaded_graph) as sess:\n",
    "    # Load saved model\n",
    "    loader = tf.train.import_meta_graph(load_dir + '.meta')\n",
    "    loader.restore(sess, load_dir)\n",
    "\n",
    "    # Get Tensors from loaded model\n",
    "    input_text, initial_state, final_state, probs = get_tensors(loaded_graph)\n",
    "\n",
    "    # Sentences generation setup\n",
    "    gen_sentences = [prime_word + ':']\n",
    "    prev_state = sess.run(initial_state, {input_text: np.array([[1]])})\n",
    "\n",
    "    # Generate sentences\n",
    "    for n in range(gen_length):\n",
    "        # Dynamic Input\n",
    "        dyn_input = [[vocab_to_int[word] for word in gen_sentences[-seq_length:]]]\n",
    "        dyn_seq_length = len(dyn_input[0])\n",
    "\n",
    "        # Get Prediction\n",
    "        probabilities, prev_state = sess.run(\n",
    "            [probs, final_state],\n",
    "            {input_text: dyn_input, initial_state: prev_state})\n",
    "        \n",
    "        pred_word = pick_word(probabilities[dyn_seq_length-1], int_to_vocab)\n",
    "\n",
    "        gen_sentences.append(pred_word)\n",
    "    \n",
    "    # Remove tokens\n",
    "    tv_script = ' '.join(gen_sentences)\n",
    "    for key, token in token_dict.items():\n",
    "        ending = ' ' if key in ['\\n', '(', '\"'] else ''\n",
    "        tv_script = tv_script.replace(' ' + token.lower(), key)\n",
    "    tv_script = tv_script.replace('\\n ', '\\n')\n",
    "    tv_script = tv_script.replace('( ', '(')\n",
    "        \n",
    "    print(tv_script)"
   ]
  },
  {
   "cell_type": "markdown",
   "metadata": {},
   "source": [
    "# The TV Script is Nonsensical\n",
    "It's ok if the TV script doesn't make any sense.  We trained on less than a megabyte of text.  In order to get good results, you'll have to use a smaller vocabulary or get more data.  Luckly there's more data!  As we mentioned in the begging of this project, this is a subset of [another dataset](https://www.kaggle.com/wcukierski/the-simpsons-by-the-data).  We didn't have you train on all the data, because that would take too long.  However, you are free to train your neural network on all the data.  After you complete the project, of course.\n",
    "# Submitting This Project\n",
    "When submitting this project, make sure to run all the cells before saving the notebook. Save the notebook file as \"dlnd_tv_script_generation.ipynb\" and save it as a HTML file under \"File\" -> \"Download as\". Include the \"helper.py\" and \"problem_unittests.py\" files in your submission."
   ]
  }
 ],
 "metadata": {
  "kernelspec": {
   "display_name": "Python 3",
   "language": "python",
   "name": "python3"
  },
  "language_info": {
   "codemirror_mode": {
    "name": "ipython",
    "version": 3
   },
   "file_extension": ".py",
   "mimetype": "text/x-python",
   "name": "python",
   "nbconvert_exporter": "python",
   "pygments_lexer": "ipython3",
   "version": "3.6.2"
  },
  "widgets": {
   "state": {},
   "version": "1.1.2"
  }
 },
 "nbformat": 4,
 "nbformat_minor": 1
}
