{
 "cells": [
  {
   "cell_type": "markdown",
   "metadata": {
    "collapsed": true
   },
   "source": [
    "# Image Classification\n",
    "In this project, you'll classify images from the [CIFAR-10 dataset](https://www.cs.toronto.edu/~kriz/cifar.html).  The dataset consists of airplanes, dogs, cats, and other objects. You'll preprocess the images, then train a convolutional neural network on all the samples. The images need to be normalized and the labels need to be one-hot encoded.  You'll get to apply what you learned and build a convolutional, max pooling, dropout, and fully connected layers.  At the end, you'll get to see your neural network's predictions on the sample images.\n",
    "## Get the Data\n",
    "Run the following cell to download the [CIFAR-10 dataset for python](https://www.cs.toronto.edu/~kriz/cifar-10-python.tar.gz)."
   ]
  },
  {
   "cell_type": "code",
   "execution_count": 104,
   "metadata": {},
   "outputs": [
    {
     "name": "stdout",
     "output_type": "stream",
     "text": [
      "All files found!\n"
     ]
    }
   ],
   "source": [
    "\"\"\"\n",
    "DON'T MODIFY ANYTHING IN THIS CELL THAT IS BELOW THIS LINE\n",
    "\"\"\"\n",
    "from urllib.request import urlretrieve\n",
    "from os.path import isfile, isdir\n",
    "from tqdm import tqdm\n",
    "import problem_unittests as tests\n",
    "import tarfile\n",
    "\n",
    "cifar10_dataset_folder_path = 'cifar-10-batches-py'\n",
    "\n",
    "# Use Floyd's cifar-10 dataset if present\n",
    "floyd_cifar10_location = '/input/cifar-10/python.tar.gz'\n",
    "if isfile(floyd_cifar10_location):\n",
    "    tar_gz_path = floyd_cifar10_location\n",
    "else:\n",
    "    tar_gz_path = 'cifar-10-python.tar.gz'\n",
    "\n",
    "class DLProgress(tqdm):\n",
    "    last_block = 0\n",
    "\n",
    "    def hook(self, block_num=1, block_size=1, total_size=None):\n",
    "        self.total = total_size\n",
    "        self.update((block_num - self.last_block) * block_size)\n",
    "        self.last_block = block_num\n",
    "\n",
    "if not isfile(tar_gz_path):\n",
    "    with DLProgress(unit='B', unit_scale=True, miniters=1, desc='CIFAR-10 Dataset') as pbar:\n",
    "        urlretrieve(\n",
    "            'https://www.cs.toronto.edu/~kriz/cifar-10-python.tar.gz',\n",
    "            tar_gz_path,\n",
    "            pbar.hook)\n",
    "\n",
    "if not isdir(cifar10_dataset_folder_path):\n",
    "    with tarfile.open(tar_gz_path) as tar:\n",
    "        tar.extractall()\n",
    "        tar.close()\n",
    "\n",
    "\n",
    "tests.test_folder_path(cifar10_dataset_folder_path)"
   ]
  },
  {
   "cell_type": "markdown",
   "metadata": {},
   "source": [
    "## Explore the Data\n",
    "The dataset is broken into batches to prevent your machine from running out of memory.  The CIFAR-10 dataset consists of 5 batches, named `data_batch_1`, `data_batch_2`, etc.. Each batch contains the labels and images that are one of the following:\n",
    "* airplane\n",
    "* automobile\n",
    "* bird\n",
    "* cat\n",
    "* deer\n",
    "* dog\n",
    "* frog\n",
    "* horse\n",
    "* ship\n",
    "* truck\n",
    "\n",
    "Understanding a dataset is part of making predictions on the data.  Play around with the code cell below by changing the `batch_id` and `sample_id`. The `batch_id` is the id for a batch (1-5). The `sample_id` is the id for a image and label pair in the batch.\n",
    "\n",
    "Ask yourself \"What are all possible labels?\", \"What is the range of values for the image data?\", \"Are the labels in order or random?\".  Answers to questions like these will help you preprocess the data and end up with better predictions."
   ]
  },
  {
   "cell_type": "code",
   "execution_count": 43,
   "metadata": {},
   "outputs": [
    {
     "name": "stdout",
     "output_type": "stream",
     "text": [
      "\n",
      "Stats of batch 4:\n",
      "Samples: 10000\n",
      "Label Counts: {0: 1003, 1: 963, 2: 1041, 3: 976, 4: 1004, 5: 1021, 6: 1004, 7: 981, 8: 1024, 9: 983}\n",
      "First 20 Labels: [0, 6, 0, 2, 7, 2, 1, 2, 4, 1, 5, 6, 6, 3, 1, 3, 5, 5, 8, 1]\n",
      "\n",
      "Example of Image 190:\n",
      "Image - Min Value: 0 Max Value: 255\n",
      "Image - Shape: (32, 32, 3)\n",
      "Label - Label Id: 7 Name: horse\n"
     ]
    },
    {
     "data": {
      "image/png": "[encoded data removed]",
      "text/plain": [
       "<matplotlib.figure.Figure at 0xcb70358>"
      ]
     },
     "metadata": {
      "image/png": {
       "height": 250,
       "width": 253
      }
     },
     "output_type": "display_data"
    }
   ],
   "source": [
    "%matplotlib inline\n",
    "%config InlineBackend.figure_format = 'retina'\n",
    "\n",
    "import helper\n",
    "import numpy as np\n",
    "\n",
    "# Explore the dataset\n",
    "batch_id = 4\n",
    "sample_id = 190\n",
    "helper.display_stats(cifar10_dataset_folder_path, batch_id, sample_id)"
   ]
  },
  {
   "cell_type": "markdown",
   "metadata": {},
   "source": [
    "## Implement Preprocess Functions\n",
    "### Normalize\n",
    "In the cell below, implement the `normalize` function to take in image data, `x`, and return it as a normalized Numpy array. The values should be in the range of 0 to 1, inclusive.  The return object should be the same shape as `x`."
   ]
  },
  {
   "cell_type": "code",
   "execution_count": 18,
   "metadata": {},
   "outputs": [
    {
     "name": "stdout",
     "output_type": "stream",
     "text": [
      "Tests Passed\n"
     ]
    }
   ],
   "source": [
    "def normalize(x):\n",
    "    \"\"\"\n",
    "    Normalize a list of sample image data in the range of 0 to 1\n",
    "    : x: List of image data.  The image shape is (32, 32, 3)\n",
    "    : return: Numpy array of normalize data\n",
    "    \"\"\"\n",
    "    # TODO: Implement Function\n",
    "    values = np.array(x)/255.0\n",
    "    return values\n",
    "\n",
    "\n",
    "\"\"\"\n",
    "DON'T MODIFY ANYTHING IN THIS CELL THAT IS BELOW THIS LINE\n",
    "\"\"\"\n",
    "tests.test_normalize(normalize)"
   ]
  },
  {
   "cell_type": "markdown",
   "metadata": {},
   "source": [
    "### One-hot encode\n",
    "Just like the previous code cell, you'll be implementing a function for preprocessing.  This time, you'll implement the `one_hot_encode` function. The input, `x`, are a list of labels.  Implement the function to return the list of labels as One-Hot encoded Numpy array.  The possible values for labels are 0 to 9. The one-hot encoding function should return the same encoding for each value between each call to `one_hot_encode`.  Make sure to save the map of encodings outside the function.\n",
    "\n",
    "Hint: Don't reinvent the wheel."
   ]
  },
  {
   "cell_type": "code",
   "execution_count": 31,
   "metadata": {},
   "outputs": [
    {
     "name": "stdout",
     "output_type": "stream",
     "text": [
      "Tests Passed\n"
     ]
    }
   ],
   "source": [
    "def one_hot_encode(x):\n",
    "    \"\"\"\n",
    "    One hot encode a list of sample labels. Return a one-hot encoded vector for each label.\n",
    "    : x: List of sample Labels\n",
    "    : return: Numpy array of one-hot encoded labels\n",
    "    \"\"\"\n",
    "    # TODO: Implement Function\n",
    "    label_encode = np.zeros((len(x),10))\n",
    "    for i in range(len(x)):           #从0到len(x)，不包括len(x)\n",
    "        label_encode[i,x[i]] += 1\n",
    "    return label_encode\n",
    "\n",
    "\"\"\"\n",
    "DON'T MODIFY ANYTHING IN THIS CELL THAT IS BELOW THIS LINE\n",
    "\"\"\"\n",
    "tests.test_one_hot_encode(one_hot_encode)"
   ]
  },
  {
   "cell_type": "markdown",
   "metadata": {},
   "source": [
    "### Randomize Data\n",
    "As you saw from exploring the data above, the order of the samples are randomized.  It doesn't hurt to randomize it again, but you don't need to for this dataset."
   ]
  },
  {
   "cell_type": "markdown",
   "metadata": {},
   "source": [
    "## Preprocess all the data and save it\n",
    "Running the code cell below will preprocess all the CIFAR-10 data and save it to file. The code below also uses 10% of the training data for validation."
   ]
  },
  {
   "cell_type": "code",
   "execution_count": 32,
   "metadata": {},
   "outputs": [],
   "source": [
    "\"\"\"\n",
    "DON'T MODIFY ANYTHING IN THIS CELL\n",
    "\"\"\"\n",
    "# Preprocess Training, Validation, and Testing Data\n",
    "helper.preprocess_and_save_data(cifar10_dataset_folder_path, normalize, one_hot_encode)"
   ]
  },
  {
   "cell_type": "markdown",
   "metadata": {},
   "source": [
    "# Check Point\n",
    "This is your first checkpoint.  If you ever decide to come back to this notebook or have to restart the notebook, you can start from here.  The preprocessed data has been saved to disk."
   ]
  },
  {
   "cell_type": "code",
   "execution_count": 8,
   "metadata": {
    "collapsed": true
   },
   "outputs": [],
   "source": [
    "\n",
    "\"\"\"\n",
    "DON'T MODIFY ANYTHING IN THIS CELL\n",
    "\"\"\"\n",
    "import pickle\n",
    "import problem_unittests as tests\n",
    "import helper\n",
    "\n",
    "# Load the Preprocessed Validation data\n",
    "valid_features, valid_labels = pickle.load(open('preprocess_validation.p', mode='rb'))"
   ]
  },
  {
   "cell_type": "markdown",
   "metadata": {},
   "source": [
    "## Build the network\n",
    "For the neural network, you'll build each layer into a function.  Most of the code you've seen has been outside of functions. To test your code more thoroughly, we require that you put each layer in a function.  This allows us to give you better feedback and test for simple mistakes using our unittests before you submit your project.\n",
    "\n",
    ">**Note:** If you're finding it hard to dedicate enough time for this course each week, we've provided a small shortcut to this part of the project. In the next couple of problems, you'll have the option to use classes from the [TensorFlow Layers](https://www.tensorflow.org/api_docs/python/tf/layers) or [TensorFlow Layers (contrib)](https://www.tensorflow.org/api_guides/python/contrib.layers) packages to build each layer, except the layers you build in the \"Convolutional and Max Pooling Layer\" section.  TF Layers is similar to Keras's and TFLearn's abstraction to layers, so it's easy to pickup.\n",
    "\n",
    ">However, if you would like to get the most out of this course, try to solve all the problems _without_ using anything from the TF Layers packages. You **can** still use classes from other packages that happen to have the same name as ones you find in TF Layers! For example, instead of using the TF Layers version of the `conv2d` class, [tf.layers.conv2d](https://www.tensorflow.org/api_docs/python/tf/layers/conv2d), you would want to use the TF Neural Network version of `conv2d`, [tf.nn.conv2d](https://www.tensorflow.org/api_docs/python/tf/nn/conv2d). \n",
    "\n",
    "Let's begin!\n",
    "\n",
    "### Input\n",
    "The neural network needs to read the image data, one-hot encoded labels, and dropout keep probability. Implement the following functions\n",
    "* Implement `neural_net_image_input`\n",
    " * Return a [TF Placeholder](https://www.tensorflow.org/api_docs/python/tf/placeholder)\n",
    " * Set the shape using `image_shape` with batch size set to `None`.\n",
    " * Name the TensorFlow placeholder \"x\" using the TensorFlow `name` parameter in the [TF Placeholder](https://www.tensorflow.org/api_docs/python/tf/placeholder).\n",
    "* Implement `neural_net_label_input`\n",
    " * Return a [TF Placeholder](https://www.tensorflow.org/api_docs/python/tf/placeholder)\n",
    " * Set the shape using `n_classes` with batch size set to `None`.\n",
    " * Name the TensorFlow placeholder \"y\" using the TensorFlow `name` parameter in the [TF Placeholder](https://www.tensorflow.org/api_docs/python/tf/placeholder).\n",
    "* Implement `neural_net_keep_prob_input`\n",
    " * Return a [TF Placeholder](https://www.tensorflow.org/api_docs/python/tf/placeholder) for dropout keep probability.\n",
    " * Name the TensorFlow placeholder \"keep_prob\" using the TensorFlow `name` parameter in the [TF Placeholder](https://www.tensorflow.org/api_docs/python/tf/placeholder).\n",
    "\n",
    "These names will be used at the end of the project to load your saved model.\n",
    "\n",
    "Note: `None` for shapes in TensorFlow allow for a dynamic size."
   ]
  },
  {
   "cell_type": "code",
   "execution_count": 9,
   "metadata": {},
   "outputs": [
    {
     "name": "stdout",
     "output_type": "stream",
     "text": [
      "Image Input Tests Passed.\n",
      "Label Input Tests Passed.\n",
      "Keep Prob Tests Passed.\n"
     ]
    }
   ],
   "source": [
    "import tensorflow as tf\n",
    "\n",
    "def neural_net_image_input(image_shape):\n",
    "    \"\"\"\n",
    "    Return a Tensor for a batch of image input\n",
    "    : image_shape: Shape of the images\n",
    "    : return: Tensor for image input.\n",
    "    \"\"\"\n",
    "    # TODO: Implement Function\n",
    "    return tf.placeholder(tf.float32,shape=(None,)+image_shape, name = 'x')\n",
    "\n",
    "\n",
    "def neural_net_label_input(n_classes):\n",
    "    \"\"\"\n",
    "    Return a Tensor for a batch of label input\n",
    "    : n_classes: Number of classes\n",
    "    : return: Tensor for label input.\n",
    "    \"\"\"\n",
    "    # TODO: Implement Function\n",
    "    return tf.placeholder(tf.float32,shape = [None,n_classes], name = 'y')\n",
    "\n",
    "\n",
    "def neural_net_keep_prob_input():\n",
    "    \"\"\"\n",
    "    Return a Tensor for keep probability\n",
    "    : return: Tensor for keep probability.\n",
    "    \"\"\"\n",
    "    # TODO: Implement Function\n",
    "    return tf.placeholder(tf.float32,name = 'keep_prob')\n",
    "\n",
    "\n",
    "\"\"\"\n",
    "DON'T MODIFY ANYTHING IN THIS CELL THAT IS BELOW THIS LINE\n",
    "\"\"\"\n",
    "tf.reset_default_graph()\n",
    "tests.test_nn_image_inputs(neural_net_image_input)\n",
    "tests.test_nn_label_inputs(neural_net_label_input)\n",
    "tests.test_nn_keep_prob_inputs(neural_net_keep_prob_input)"
   ]
  },
  {
   "cell_type": "markdown",
   "metadata": {},
   "source": [
    "### Convolution and Max Pooling Layer\n",
    "Convolution layers have a lot of success with images. For this code cell, you should implement the function `conv2d_maxpool` to apply convolution then max pooling:\n",
    "* Create the weight and bias using `conv_ksize`, `conv_num_outputs` and the shape of `x_tensor`.\n",
    "* Apply a convolution to `x_tensor` using weight and `conv_strides`.\n",
    " * We recommend you use same padding, but you're welcome to use any padding.\n",
    "* Add bias\n",
    "* Add a nonlinear activation to the convolution.\n",
    "* Apply Max Pooling using `pool_ksize` and `pool_strides`.\n",
    " * We recommend you use same padding, but you're welcome to use any padding.\n",
    "\n",
    "**Note:** You **can't** use [TensorFlow Layers](https://www.tensorflow.org/api_docs/python/tf/layers) or [TensorFlow Layers (contrib)](https://www.tensorflow.org/api_guides/python/contrib.layers) for **this** layer, but you can still use TensorFlow's [Neural Network](https://www.tensorflow.org/api_docs/python/tf/nn) package. You may still use the shortcut option for all the **other** layers."
   ]
  },
  {
   "cell_type": "code",
   "execution_count": 10,
   "metadata": {},
   "outputs": [
    {
     "name": "stdout",
     "output_type": "stream",
     "text": [
      "Tests Passed\n"
     ]
    }
   ],
   "source": [
    "def conv2d_maxpool(x_tensor, conv_num_outputs, conv_ksize, conv_strides, pool_ksize, pool_strides):\n",
    "    \"\"\"\n",
    "    Apply convolution then max pooling to x_tensor\n",
    "    :param x_tensor: TensorFlow Tensor\n",
    "    :param conv_num_outputs: Number of outputs for the convolutional layer\n",
    "    :param conv_ksize: kernal size 2-D Tuple for the convolutional layer \n",
    "    :param conv_strides: Stride 2-D Tuple for convolution\n",
    "    :param pool_ksize: kernal size 2-D Tuple for pool\n",
    "    :param pool_strides: Stride 2-D Tuple for pool\n",
    "    : return: A tensor that represents convolution and max pooling of x_tensor\n",
    "    \"\"\"\n",
    "    # TODO: Implement Function\n",
    "    \n",
    "    # Weight and bias\n",
    "    #print(x_tensor,conv_ksize)\n",
    "    weight = tf.Variable(tf.truncated_normal(\n",
    "        [conv_ksize[0],\n",
    "         conv_ksize[1],\n",
    "         x_tensor.get_shape().as_list()[3],\n",
    "         conv_num_outputs],mean = 0,stddev=0.01))\n",
    "    #问题1：这里为什么x的shape里color channels是5而不是image shape里的3？\n",
    "    bias = tf.Variable(tf.zeros(conv_num_outputs))\n",
    "    \n",
    "    # Apply Convolution\n",
    "    #print(conv_strides)\n",
    "    conv_layer = tf.nn.conv2d(x_tensor, weight, (1,)+conv_strides+(1,), padding='SAME')\n",
    "    \n",
    "    # Add bias\n",
    "    conv_layer = tf.nn.bias_add(conv_layer, bias)\n",
    "    \n",
    "    # Apply a nonlinear activation function\n",
    "    conv_layer = tf.nn.relu(conv_layer)\n",
    "    \n",
    "    # Apply Max Pooling\n",
    "    #print(pool_ksize,pool_strides)\n",
    "    conv_layer = tf.nn.max_pool(conv_layer,(1,)+pool_ksize+(1,),(1,)+pool_strides+(1,),padding='SAME')\n",
    "    return conv_layer\n",
    "\n",
    "\n",
    "\n",
    "\"\"\"\n",
    "DON'T MODIFY ANYTHING IN THIS CELL THAT IS BELOW THIS LINE\n",
    "\"\"\"\n",
    "tests.test_con_pool(conv2d_maxpool)"
   ]
  },
  {
   "cell_type": "markdown",
   "metadata": {},
   "source": [
    "### Flatten Layer\n",
    "Implement the `flatten` function to change the dimension of `x_tensor` from a 4-D tensor to a 2-D tensor.  The output should be the shape (*Batch Size*, *Flattened Image Size*). Shortcut option: you can use classes from the [TensorFlow Layers](https://www.tensorflow.org/api_docs/python/tf/layers) or [TensorFlow Layers (contrib)](https://www.tensorflow.org/api_guides/python/contrib.layers) packages for this layer. For more of a challenge, only use other TensorFlow packages."
   ]
  },
  {
   "cell_type": "code",
   "execution_count": 11,
   "metadata": {},
   "outputs": [
    {
     "name": "stdout",
     "output_type": "stream",
     "text": [
      "Tests Passed\n"
     ]
    }
   ],
   "source": [
    "def flatten(x_tensor):\n",
    "    \"\"\"\n",
    "    Flatten x_tensor to (Batch Size, Flattened Image Size)\n",
    "    : x_tensor: A tensor of size (Batch Size, ...), where ... are the image dimensions.\n",
    "    : return: A tensor of size (Batch Size, Flattened Image Size).\n",
    "    \"\"\"\n",
    "    # TODO: Implement Function\n",
    "    flat_size = 1\n",
    "    for i in x_tensor.get_shape().as_list()[1:]:\n",
    "        flat_size *= i\n",
    "    x_tensor_flat = tf.reshape(x_tensor,[-1,flat_size])\n",
    "    return x_tensor_flat\n",
    "\n",
    "\n",
    "\"\"\"\n",
    "DON'T MODIFY ANYTHING IN THIS CELL THAT IS BELOW THIS LINE\n",
    "\"\"\"\n",
    "tests.test_flatten(flatten)"
   ]
  },
  {
   "cell_type": "markdown",
   "metadata": {},
   "source": [
    "### Fully-Connected Layer\n",
    "Implement the `fully_conn` function to apply a fully connected layer to `x_tensor` with the shape (*Batch Size*, *num_outputs*). Shortcut option: you can use classes from the [TensorFlow Layers](https://www.tensorflow.org/api_docs/python/tf/layers) or [TensorFlow Layers (contrib)](https://www.tensorflow.org/api_guides/python/contrib.layers) packages for this layer. For more of a challenge, only use other TensorFlow packages."
   ]
  },
  {
   "cell_type": "code",
   "execution_count": 19,
   "metadata": {},
   "outputs": [
    {
     "name": "stdout",
     "output_type": "stream",
     "text": [
      "Tests Passed\n"
     ]
    }
   ],
   "source": [
    "def fully_conn(x_tensor, num_outputs):\n",
    "    \"\"\"\n",
    "    Apply a fully connected layer to x_tensor using weight and bias\n",
    "    : x_tensor: A 2-D tensor where the first dimension is batch size.\n",
    "    : num_outputs: The number of output that the new tensor should be.\n",
    "    : return: A 2-D tensor where the second dimension is num_outputs.\n",
    "    \"\"\"\n",
    "    # TODO: Implement Function\n",
    "    '''\n",
    "    # Fully connected layer - 7*7*64 to 1024\n",
    "    fc1 = tf.reshape(conv2, [-1, weights['wd1'].get_shape().as_list()[0]])\n",
    "    fc1 = tf.add(tf.matmul(fc1, weights['wd1']), biases['bd1'])\n",
    "    fc1 = tf.nn.relu(fc1)\n",
    "    fc1 = tf.nn.dropout(fc1, dropout)\n",
    "    '''\n",
    "    weight = tf.Variable(tf.truncated_normal([x_tensor.get_shape().as_list()[1], num_outputs],mean = 0,stddev=0.01))\n",
    "    bias = tf.Variable(tf.truncated_normal([num_outputs],mean = 0,stddev=0.01))\n",
    "    fl = tf.nn.relu(tf.matmul(x_tensor,weight)+bias)\n",
    "    return fl\n",
    "\n",
    "\n",
    "\"\"\"\n",
    "DON'T MODIFY ANYTHING IN THIS CELL THAT IS BELOW THIS LINE\n",
    "\"\"\"\n",
    "tests.test_fully_conn(fully_conn)"
   ]
  },
  {
   "cell_type": "markdown",
   "metadata": {},
   "source": [
    "### Output Layer\n",
    "Implement the `output` function to apply a fully connected layer to `x_tensor` with the shape (*Batch Size*, *num_outputs*). Shortcut option: you can use classes from the [TensorFlow Layers](https://www.tensorflow.org/api_docs/python/tf/layers) or [TensorFlow Layers (contrib)](https://www.tensorflow.org/api_guides/python/contrib.layers) packages for this layer. For more of a challenge, only use other TensorFlow packages.\n",
    "\n",
    "**Note:** Activation, softmax, or cross entropy should **not** be applied to this."
   ]
  },
  {
   "cell_type": "code",
   "execution_count": 20,
   "metadata": {},
   "outputs": [
    {
     "name": "stdout",
     "output_type": "stream",
     "text": [
      "Tests Passed\n"
     ]
    }
   ],
   "source": [
    "def output(x_tensor, num_outputs):\n",
    "    \"\"\"\n",
    "    Apply a output layer to x_tensor using weight and bias\n",
    "    : x_tensor: A 2-D tensor where the first dimension is batch size.\n",
    "    : num_outputs: The number of output that the new tensor should be.\n",
    "    : return: A 2-D tensor where the second dimension is num_outputs.\n",
    "    \"\"\"\n",
    "    # TODO: Implement Function\n",
    "    weight = tf.Variable(tf.truncated_normal([x_tensor.get_shape().as_list()[1], num_outputs],mean = 0,stddev=0.01))\n",
    "    bias = tf.Variable(tf.truncated_normal([num_outputs],mean = 0,stddev=0.01))\n",
    "    out = tf.add(tf.matmul(x_tensor, weight), bias)\n",
    "    return out\n",
    "\n",
    "\n",
    "\"\"\"\n",
    "DON'T MODIFY ANYTHING IN THIS CELL THAT IS BELOW THIS LINE\n",
    "\"\"\"\n",
    "tests.test_output(output)"
   ]
  },
  {
   "cell_type": "markdown",
   "metadata": {},
   "source": [
    "### Create Convolutional Model\n",
    "Implement the function `conv_net` to create a convolutional neural network model. The function takes in a batch of images, `x`, and outputs logits.  Use the layers you created above to create this model:\n",
    "\n",
    "* Apply 1, 2, or 3 Convolution and Max Pool layers\n",
    "* Apply a Flatten Layer\n",
    "* Apply 1, 2, or 3 Fully Connected Layers\n",
    "* Apply an Output Layer\n",
    "* Return the output\n",
    "* Apply [TensorFlow's Dropout](https://www.tensorflow.org/api_docs/python/tf/nn/dropout) to one or more layers in the model using `keep_prob`. "
   ]
  },
  {
   "cell_type": "code",
   "execution_count": 21,
   "metadata": {},
   "outputs": [
    {
     "name": "stdout",
     "output_type": "stream",
     "text": [
      "Neural Network Built!\n"
     ]
    }
   ],
   "source": [
    "def conv_net(x, keep_prob):\n",
    "    \"\"\"\n",
    "    Create a convolutional neural network model\n",
    "    : x: Placeholder tensor that holds image data.\n",
    "    : keep_prob: Placeholder tensor that hold dropout keep probability.\n",
    "    : return: Tensor that represents logits\n",
    "    \"\"\"\n",
    "    # TODO: Apply 1, 2, or 3 Convolution and Max Pool layers\n",
    "    #    Play around with different 1.number of outputs, 2.kernel size and 3.stride\n",
    "    # Function Definition from Above:\n",
    "    #    conv2d_maxpool(x_tensor, conv_num_outputs, conv_ksize, conv_strides, pool_ksize, pool_strides)\n",
    "    \n",
    "    # Layer 1&2\n",
    "    conv1 = conv2d_maxpool(x,20,(3,3),(1,1),(2,2),(2,2))\n",
    "    conv2 = conv2d_maxpool(conv1,40,(3,3),(1,1),(2,2),(2,2))\n",
    "    #conv3 = conv2d_maxpool(conv2,80,(1,1),(1,1),(2,2),(2,2))\n",
    "\n",
    "    # TODO: Apply a Flatten Layer\n",
    "    # Function Definition from Above:\n",
    "    #   flatten(x_tensor)\n",
    "    fl = flatten(conv2)\n",
    "    #fl = flatten(conv3)\n",
    "\n",
    "    # TODO: Apply 1, 2, or 3 Fully Connected Layers\n",
    "    #    Play around with different number of outputs\n",
    "    # Function Definition from Above:\n",
    "    #   fully_conn(x_tensor, num_outputs)\n",
    "    fc1 = fully_conn(fl, 600)\n",
    "    fc1 = tf.nn.dropout(fc1, keep_prob)\n",
    "    \n",
    "    fc2 = fully_conn(fc1, 100)\n",
    "    #fc2 = tf.nn.dropout(fc2, keep_prob)\n",
    "\n",
    "    \n",
    "    # TODO: Apply an Output Layer\n",
    "    #    Set this to the number of classes\n",
    "    # Function Definition from Above:\n",
    "    #   output(x_tensor, num_outputs)\n",
    "    out = output(fc2, 10)\n",
    "    \n",
    "    # TODO: return output\n",
    "    return out\n",
    "\n",
    "\n",
    "\"\"\"\n",
    "DON'T MODIFY ANYTHING IN THIS CELL THAT IS BELOW THIS LINE\n",
    "\"\"\"\n",
    "\n",
    "##############################\n",
    "## Build the Neural Network ##\n",
    "##############################\n",
    "\n",
    "# Remove previous weights, bias, inputs, etc..\n",
    "tf.reset_default_graph()\n",
    "\n",
    "# Inputs\n",
    "x = neural_net_image_input((32, 32, 3))\n",
    "y = neural_net_label_input(10)\n",
    "keep_prob = neural_net_keep_prob_input()\n",
    "\n",
    "# Model\n",
    "logits = conv_net(x, keep_prob)\n",
    "\n",
    "# Name logits Tensor, so that is can be loaded from disk after training\n",
    "logits = tf.identity(logits, name='logits')\n",
    "\n",
    "# Loss and Optimizer\n",
    "cost = tf.reduce_mean(tf.nn.softmax_cross_entropy_with_logits(logits=logits, labels=y))\n",
    "optimizer = tf.train.AdamOptimizer().minimize(cost)\n",
    "\n",
    "# Accuracy\n",
    "correct_pred = tf.equal(tf.argmax(logits, 1), tf.argmax(y, 1))\n",
    "accuracy = tf.reduce_mean(tf.cast(correct_pred, tf.float32), name='accuracy')\n",
    "\n",
    "tests.test_conv_net(conv_net)"
   ]
  },
  {
   "cell_type": "markdown",
   "metadata": {},
   "source": [
    "## Train the Neural Network\n",
    "### Single Optimization\n",
    "Implement the function `train_neural_network` to do a single optimization.  The optimization should use `optimizer` to optimize in `session` with a `feed_dict` of the following:\n",
    "* `x` for image input\n",
    "* `y` for labels\n",
    "* `keep_prob` for keep probability for dropout\n",
    "\n",
    "This function will be called for each batch, so `tf.global_variables_initializer()` has already been called.\n",
    "\n",
    "Note: Nothing needs to be returned. This function is only optimizing the neural network."
   ]
  },
  {
   "cell_type": "code",
   "execution_count": 22,
   "metadata": {},
   "outputs": [
    {
     "name": "stdout",
     "output_type": "stream",
     "text": [
      "Tests Passed\n"
     ]
    }
   ],
   "source": [
    "def train_neural_network(session, optimizer, keep_probability, feature_batch, label_batch):\n",
    "    \"\"\"\n",
    "    Optimize the session on a batch of images and labels\n",
    "    : session: Current TensorFlow session\n",
    "    : optimizer: TensorFlow optimizer function\n",
    "    : keep_probability: keep probability\n",
    "    : feature_batch: Batch of Numpy image data\n",
    "    : label_batch: Batch of Numpy label data\n",
    "    \"\"\"\n",
    "    # TODO: Implement Function\n",
    "    # Model\n",
    "    #logits = conv_net(feature_batch, keep_prob)\n",
    "\n",
    "    # Define loss and optimizer\n",
    "    #cost = tf.reduce_mean(tf.nn.softmax_cross_entropy_with_logits(logits=logits, labels=label_batch))\n",
    "    #optimizer = tf.train.GradientDescentOptimizer(learning_rate=learning_rate).minimize(cost)\n",
    "    \n",
    "\n",
    "    session.run(optimizer, feed_dict={\n",
    "        x: feature_batch,\n",
    "        y: label_batch,\n",
    "        keep_prob: keep_probability})\n",
    "\n",
    "\n",
    "\n",
    "\"\"\"\n",
    "DON'T MODIFY ANYTHING IN THIS CELL THAT IS BELOW THIS LINE\n",
    "\"\"\"\n",
    "tests.test_train_nn(train_neural_network)"
   ]
  },
  {
   "cell_type": "markdown",
   "metadata": {},
   "source": [
    "### Show Stats\n",
    "Implement the function `print_stats` to print loss and validation accuracy.  Use the global variables `valid_features` and `valid_labels` to calculate validation accuracy.  Use a keep probability of `1.0` to calculate the loss and validation accuracy."
   ]
  },
  {
   "cell_type": "code",
   "execution_count": 23,
   "metadata": {},
   "outputs": [],
   "source": [
    "def print_stats(session, feature_batch, label_batch, cost, accuracy):\n",
    "    \"\"\"\n",
    "    Print information about loss and validation accuracy\n",
    "    : session: Current TensorFlow session\n",
    "    : feature_batch: Batch of Numpy image data\n",
    "    : label_batch: Batch of Numpy label data\n",
    "    : cost: TensorFlow cost function\n",
    "    : accuracy: TensorFlow accuracy function\n",
    "    \"\"\"\n",
    "    # TODO: Implement Function\n",
    "    \n",
    "    # Calculate batch loss and accuracy\n",
    "    loss = session.run(cost, feed_dict={\n",
    "        x: feature_batch,\n",
    "        y: label_batch,\n",
    "        keep_prob: 1.})\n",
    "    valid_acc = session.run(accuracy, feed_dict={\n",
    "        x: valid_features,\n",
    "        y: valid_labels,\n",
    "        keep_prob: 1.})\n",
    "    print(loss,valid_acc)"
   ]
  },
  {
   "cell_type": "markdown",
   "metadata": {},
   "source": [
    "### Hyperparameters\n",
    "Tune the following parameters:\n",
    "* Set `epochs` to the number of iterations until the network stops learning or start overfitting\n",
    "* Set `batch_size` to the highest number that your machine has memory for.  Most people set them to common sizes of memory:\n",
    " * 64\n",
    " * 128\n",
    " * 256\n",
    " * ...\n",
    "* Set `keep_probability` to the probability of keeping a node using dropout"
   ]
  },
  {
   "cell_type": "code",
   "execution_count": 30,
   "metadata": {},
   "outputs": [],
   "source": [
    "# TODO: Tune Parameters\n",
    "epochs = 40\n",
    "batch_size = 256\n",
    "keep_probability = 0.6\n",
    "\n",
    "#截止到100为止，(100,64,1)的效果比（150,128,0.6）的效果要好，大约在echo98的位置取得了0.33，\n",
    "#后者一直不高，仅有两次超过0.32\n",
    "#(2,2)(2,2)32,64,1024,100,64,1. = \n",
    "#(2,2)(2,2)32,64,1024,150,128,0.6 = \n",
    "#(1,1)20,40,500,50,10,0.6 = 0.349 正常,echo还有提升余地\n",
    "#(1,1)40,160,500,100,10,0.6 = 0.1058\n",
    "#(1,1)20,40,500,100,10,0.5 = 0.29\n",
    "#(1,1)(1,1)32,64,1024,10,10,0.75 = 0.297-->0.117 过拟合\n",
    "#(1,1)(1,1)32,64,1024,10,64,0.5 = 0.247-->0.108 过拟合\n",
    "#lesson里的参数组合是(1,1)(1,1)(2,2)(2,2)32,64,1024,10,10,0.75 = 0.117似乎过拟合了\n",
    "#csdn blog里的参数组合是(5,5)(1,1)(2,2)(2,2)20,40,1000,40,10,0.5 = 0.258 -->0.108 更不合适\n",
    "\n",
    "#以1号为样板改进：\n",
    "#增加循环量50-->100\n",
    "#(1,1)(2,2)20,40,500,100*,10,0.6 = 0.3626 还在上升\n",
    "#(1,1)(2,2)20,40,500,500*,10,0.6 = 0.3682 差不多稳定了\n",
    "#减少batch数量\n",
    "#(1,1)(2,2)20,40,500,100,64*,0.6 = 0.3398  速度加快，还在上升\n",
    "#增加抛弃量\n",
    "#(1,1)(2,2)20,40,500,100,10,0.5* = 0.353 还在上升\n",
    "#减少抛弃量\n",
    "#(1,1)(2,2)20,40,500,100,10,0.75* = 0.34 后继乏力，精确度不能继续提高\n",
    "#多加一层卷积层：conv3，相应增加了全连接层的神经元数以配合深度的增加，再抛弃多一些\n",
    "#(1,1)(2,2)20,40,80*,1000*,100,10,0.5* = 0.1 \n",
    "#多加一层卷积层：conv3，再抛弃少一些\n",
    "#(1,1)(2,2)20,40,80,500,100,10,0.75* = 0.224\n",
    "\n",
    "#修正全连层和输出层里的权重初始化函数：从random_normal到truncated_normal\n",
    "#(1,1)(2,2)20,40,500,100,10,0.6 = 0.385 ☆☆☆☆☆☆☆☆☆☆☆☆☆☆☆☆☆☆☆☆☆☆☆☆☆☆☆☆☆☆☆☆☆☆☆☆☆☆☆☆☆☆☆☆☆☆☆☆☆☆ \n",
    "#去掉dropout\n",
    "#(1,1)(2,2)20,40,500,100,10,0.6 = 0.29 不好\n",
    "#(1,1)(2,2)20,40,500,100,10,1\n",
    "#减少了conv_strides\n",
    "#(1,1)(1,1)20,40,500,100,10,0.6 太慢了\n",
    "#在conv1和conv2之间加了dropout\n",
    "#(1,1)(2,2)20,40,500,100,10,0.7* = 0.282\n",
    "#3层\n",
    "#(1,1)(2,2))20,40,80*,500,100,10,0.6 = 0.387 无明显提升，后期波动相对大一点，搞错了，忘记改flatten了\n",
    "#(1,1)(2,2)20,40,80*,500,100,10,0.6 = 0.1\n",
    "#再加上一个conv2的dropout\n",
    "#(1,1)(2,2)20,40,80*,500,100,10,0.6 = 0.0998\n",
    "#修正了conv和pool层里bias用zeros的错误，改为truncated_normal\n",
    "#(1,1)(2,2)20,40,500,100,10,0.6 = 0.342 还不如zeros呢\n",
    "\n",
    "#修正了truncated_normal里面没有设置stddev的错误\n",
    "#(1,1)(2,2)20,40,500,100,10,0.6,0.2 = 0.385 虽然总体还是在0.385左右，但是有更明显的超过4.0的倾向\n",
    "#(1,1)(2,2)20,40,500,100,10,0.6,0.1 = 0.4038\n",
    "#(1,1)(2,2)20,40,500,100,256,0.5,0.01 = 0.4212!!!!!!\n",
    "#(1,1)(2,2)20,40,500,1000,1024,0.3,0.01  太慢了\n",
    "#(1,1)(2,2)20,40,500,1000,512,0.5,0.01 = 0.428 到500才能到\n",
    "#(1,1)(2,2)20,40,500,100,10,0.6,0.02 = 0.406\n",
    "#(1,1)(2,2)20,40,500,100,10,0.6,0.008 = 0.4028\n",
    "#去掉全连接里的keep_prob\n",
    "#(1,1)(2,2)32,40,500,1000,512,\\,0.01 = 0.41\n",
    "#(1,1)(2,2)32,64,500,1000,1024,1,0.005 = 0.41\n",
    "#(1,1)(2,2)32,64,500,1000,1024,0.5,0.005 = 0.425 太慢了\n",
    "\n",
    "#调整keep_brob\n",
    "#(1,1)(2,2)32,64,512,500,256,0.6,0.005 = 0.429\n",
    "#(1,1)(2,2)32,64,512,500,256,0.7,0.005 = 0.405\n",
    "#(1,1)(2,2)32,64,512,500,256,0.65,0.005 = 0.407\n",
    "\n",
    "#添加全连接层,有弃权\n",
    "#(1,1)(2,2)20,40,1024*,100*,500,256,0.5*,0.005 = 0.405\n",
    "#(1,1)(2,2)20,40,1024,300*,500,256,0.5*,0.005 = 0.388\n",
    "#(1,1)(2,2)20,40,500,100,500,256,0.6,0.005 = 0.356\n",
    "\n",
    "#再加卷积层,只弃权一次\n",
    "#(1,1)(2,2)20,40,80,600,100,500,256,0.6,0.01 = 0.26\n",
    "#(3,3)(2,2)(1,1)(2,2)20,40,80,600,100,500,256,0.6,0.01 = 0.285\n",
    "#(5,5)(3,3)(1,1)(2,2)(1,1)(2,2)20,40,80,600,100,500,256,0.6,0.01 = 0.38 算起来超慢，准确率稍好\n",
    "\n",
    "#减小卷积步长为1，避免特征经过卷积和池化之后特征缩小得太快，导致特征提取不足。 2层卷积，2层全连接，1次dropout\n",
    "#(3,3)(1,1)20,40,600,100,500,256,0.6,0.01 = 0.53 才到35echo！"
   ]
  },
  {
   "cell_type": "markdown",
   "metadata": {},
   "source": [
    "### Train on a Single CIFAR-10 Batch\n",
    "Instead of training the neural network on all the CIFAR-10 batches of data, let's use a single batch. This should save time while you iterate on the model to get a better accuracy.  Once the final validation accuracy is 50% or greater, run the model on all the data in the next section."
   ]
  },
  {
   "cell_type": "code",
   "execution_count": 28,
   "metadata": {
    "scrolled": false
   },
   "outputs": [
    {
     "name": "stdout",
     "output_type": "stream",
     "text": [
      "Checking the Training on a Single Batch...\n"
     ]
    },
    {
     "ename": "KeyboardInterrupt",
     "evalue": "",
     "output_type": "error",
     "traceback": [
      "\u001b[0;31m---------------------------------------------------------------------------\u001b[0m",
      "\u001b[0;31mKeyboardInterrupt\u001b[0m                         Traceback (most recent call last)",
      "\u001b[0;32m<ipython-input-28-0ebd1bbc35ad>\u001b[0m in \u001b[0;36m<module>\u001b[0;34m()\u001b[0m\n\u001b[1;32m     11\u001b[0m         \u001b[0mbatch_i\u001b[0m \u001b[1;33m=\u001b[0m \u001b[1;36m1\u001b[0m\u001b[1;33m\u001b[0m\u001b[0m\n\u001b[1;32m     12\u001b[0m         \u001b[1;32mfor\u001b[0m \u001b[0mbatch_features\u001b[0m\u001b[1;33m,\u001b[0m \u001b[0mbatch_labels\u001b[0m \u001b[1;32min\u001b[0m \u001b[0mhelper\u001b[0m\u001b[1;33m.\u001b[0m\u001b[0mload_preprocess_training_batch\u001b[0m\u001b[1;33m(\u001b[0m\u001b[0mbatch_i\u001b[0m\u001b[1;33m,\u001b[0m \u001b[0mbatch_size\u001b[0m\u001b[1;33m)\u001b[0m\u001b[1;33m:\u001b[0m\u001b[1;33m\u001b[0m\u001b[0m\n\u001b[0;32m---> 13\u001b[0;31m             \u001b[0mtrain_neural_network\u001b[0m\u001b[1;33m(\u001b[0m\u001b[0msess\u001b[0m\u001b[1;33m,\u001b[0m \u001b[0moptimizer\u001b[0m\u001b[1;33m,\u001b[0m \u001b[0mkeep_probability\u001b[0m\u001b[1;33m,\u001b[0m \u001b[0mbatch_features\u001b[0m\u001b[1;33m,\u001b[0m \u001b[0mbatch_labels\u001b[0m\u001b[1;33m)\u001b[0m\u001b[1;33m\u001b[0m\u001b[0m\n\u001b[0m\u001b[1;32m     14\u001b[0m         \u001b[0mprint\u001b[0m\u001b[1;33m(\u001b[0m\u001b[1;34m'Epoch {:>2}, CIFAR-10 Batch {}:  '\u001b[0m\u001b[1;33m.\u001b[0m\u001b[0mformat\u001b[0m\u001b[1;33m(\u001b[0m\u001b[0mepoch\u001b[0m \u001b[1;33m+\u001b[0m \u001b[1;36m1\u001b[0m\u001b[1;33m,\u001b[0m \u001b[0mbatch_i\u001b[0m\u001b[1;33m)\u001b[0m\u001b[1;33m,\u001b[0m \u001b[0mend\u001b[0m\u001b[1;33m=\u001b[0m\u001b[1;34m''\u001b[0m\u001b[1;33m)\u001b[0m\u001b[1;33m\u001b[0m\u001b[0m\n\u001b[1;32m     15\u001b[0m         \u001b[0mprint_stats\u001b[0m\u001b[1;33m(\u001b[0m\u001b[0msess\u001b[0m\u001b[1;33m,\u001b[0m \u001b[0mbatch_features\u001b[0m\u001b[1;33m,\u001b[0m \u001b[0mbatch_labels\u001b[0m\u001b[1;33m,\u001b[0m \u001b[0mcost\u001b[0m\u001b[1;33m,\u001b[0m \u001b[0maccuracy\u001b[0m\u001b[1;33m)\u001b[0m\u001b[1;33m\u001b[0m\u001b[0m\n",
      "\u001b[0;32m<ipython-input-22-a809e45350db>\u001b[0m in \u001b[0;36mtrain_neural_network\u001b[0;34m(session, optimizer, keep_probability, feature_batch, label_batch)\u001b[0m\n\u001b[1;32m     20\u001b[0m         \u001b[0mx\u001b[0m\u001b[1;33m:\u001b[0m \u001b[0mfeature_batch\u001b[0m\u001b[1;33m,\u001b[0m\u001b[1;33m\u001b[0m\u001b[0m\n\u001b[1;32m     21\u001b[0m         \u001b[0my\u001b[0m\u001b[1;33m:\u001b[0m \u001b[0mlabel_batch\u001b[0m\u001b[1;33m,\u001b[0m\u001b[1;33m\u001b[0m\u001b[0m\n\u001b[0;32m---> 22\u001b[0;31m         keep_prob: keep_probability})\n\u001b[0m\u001b[1;32m     23\u001b[0m \u001b[1;33m\u001b[0m\u001b[0m\n\u001b[1;32m     24\u001b[0m \u001b[1;33m\u001b[0m\u001b[0m\n",
      "\u001b[0;32mD:\\Anaconda3\\lib\\site-packages\\tensorflow\\python\\client\\session.py\u001b[0m in \u001b[0;36mrun\u001b[0;34m(self, fetches, feed_dict, options, run_metadata)\u001b[0m\n\u001b[1;32m    776\u001b[0m     \u001b[1;32mtry\u001b[0m\u001b[1;33m:\u001b[0m\u001b[1;33m\u001b[0m\u001b[0m\n\u001b[1;32m    777\u001b[0m       result = self._run(None, fetches, feed_dict, options_ptr,\n\u001b[0;32m--> 778\u001b[0;31m                          run_metadata_ptr)\n\u001b[0m\u001b[1;32m    779\u001b[0m       \u001b[1;32mif\u001b[0m \u001b[0mrun_metadata\u001b[0m\u001b[1;33m:\u001b[0m\u001b[1;33m\u001b[0m\u001b[0m\n\u001b[1;32m    780\u001b[0m         \u001b[0mproto_data\u001b[0m \u001b[1;33m=\u001b[0m \u001b[0mtf_session\u001b[0m\u001b[1;33m.\u001b[0m\u001b[0mTF_GetBuffer\u001b[0m\u001b[1;33m(\u001b[0m\u001b[0mrun_metadata_ptr\u001b[0m\u001b[1;33m)\u001b[0m\u001b[1;33m\u001b[0m\u001b[0m\n",
      "\u001b[0;32mD:\\Anaconda3\\lib\\site-packages\\tensorflow\\python\\client\\session.py\u001b[0m in \u001b[0;36m_run\u001b[0;34m(self, handle, fetches, feed_dict, options, run_metadata)\u001b[0m\n\u001b[1;32m    980\u001b[0m     \u001b[1;32mif\u001b[0m \u001b[0mfinal_fetches\u001b[0m \u001b[1;32mor\u001b[0m \u001b[0mfinal_targets\u001b[0m\u001b[1;33m:\u001b[0m\u001b[1;33m\u001b[0m\u001b[0m\n\u001b[1;32m    981\u001b[0m       results = self._do_run(handle, final_targets, final_fetches,\n\u001b[0;32m--> 982\u001b[0;31m                              feed_dict_string, options, run_metadata)\n\u001b[0m\u001b[1;32m    983\u001b[0m     \u001b[1;32melse\u001b[0m\u001b[1;33m:\u001b[0m\u001b[1;33m\u001b[0m\u001b[0m\n\u001b[1;32m    984\u001b[0m       \u001b[0mresults\u001b[0m \u001b[1;33m=\u001b[0m \u001b[1;33m[\u001b[0m\u001b[1;33m]\u001b[0m\u001b[1;33m\u001b[0m\u001b[0m\n",
      "\u001b[0;32mD:\\Anaconda3\\lib\\site-packages\\tensorflow\\python\\client\\session.py\u001b[0m in \u001b[0;36m_do_run\u001b[0;34m(self, handle, target_list, fetch_list, feed_dict, options, run_metadata)\u001b[0m\n\u001b[1;32m   1030\u001b[0m     \u001b[1;32mif\u001b[0m \u001b[0mhandle\u001b[0m \u001b[1;32mis\u001b[0m \u001b[1;32mNone\u001b[0m\u001b[1;33m:\u001b[0m\u001b[1;33m\u001b[0m\u001b[0m\n\u001b[1;32m   1031\u001b[0m       return self._do_call(_run_fn, self._session, feed_dict, fetch_list,\n\u001b[0;32m-> 1032\u001b[0;31m                            target_list, options, run_metadata)\n\u001b[0m\u001b[1;32m   1033\u001b[0m     \u001b[1;32melse\u001b[0m\u001b[1;33m:\u001b[0m\u001b[1;33m\u001b[0m\u001b[0m\n\u001b[1;32m   1034\u001b[0m       return self._do_call(_prun_fn, self._session, handle, feed_dict,\n",
      "\u001b[0;32mD:\\Anaconda3\\lib\\site-packages\\tensorflow\\python\\client\\session.py\u001b[0m in \u001b[0;36m_do_call\u001b[0;34m(self, fn, *args)\u001b[0m\n\u001b[1;32m   1037\u001b[0m   \u001b[1;32mdef\u001b[0m \u001b[0m_do_call\u001b[0m\u001b[1;33m(\u001b[0m\u001b[0mself\u001b[0m\u001b[1;33m,\u001b[0m \u001b[0mfn\u001b[0m\u001b[1;33m,\u001b[0m \u001b[1;33m*\u001b[0m\u001b[0margs\u001b[0m\u001b[1;33m)\u001b[0m\u001b[1;33m:\u001b[0m\u001b[1;33m\u001b[0m\u001b[0m\n\u001b[1;32m   1038\u001b[0m     \u001b[1;32mtry\u001b[0m\u001b[1;33m:\u001b[0m\u001b[1;33m\u001b[0m\u001b[0m\n\u001b[0;32m-> 1039\u001b[0;31m       \u001b[1;32mreturn\u001b[0m \u001b[0mfn\u001b[0m\u001b[1;33m(\u001b[0m\u001b[1;33m*\u001b[0m\u001b[0margs\u001b[0m\u001b[1;33m)\u001b[0m\u001b[1;33m\u001b[0m\u001b[0m\n\u001b[0m\u001b[1;32m   1040\u001b[0m     \u001b[1;32mexcept\u001b[0m \u001b[0merrors\u001b[0m\u001b[1;33m.\u001b[0m\u001b[0mOpError\u001b[0m \u001b[1;32mas\u001b[0m \u001b[0me\u001b[0m\u001b[1;33m:\u001b[0m\u001b[1;33m\u001b[0m\u001b[0m\n\u001b[1;32m   1041\u001b[0m       \u001b[0mmessage\u001b[0m \u001b[1;33m=\u001b[0m \u001b[0mcompat\u001b[0m\u001b[1;33m.\u001b[0m\u001b[0mas_text\u001b[0m\u001b[1;33m(\u001b[0m\u001b[0me\u001b[0m\u001b[1;33m.\u001b[0m\u001b[0mmessage\u001b[0m\u001b[1;33m)\u001b[0m\u001b[1;33m\u001b[0m\u001b[0m\n",
      "\u001b[0;32mD:\\Anaconda3\\lib\\site-packages\\tensorflow\\python\\client\\session.py\u001b[0m in \u001b[0;36m_run_fn\u001b[0;34m(session, feed_dict, fetch_list, target_list, options, run_metadata)\u001b[0m\n\u001b[1;32m   1019\u001b[0m         return tf_session.TF_Run(session, options,\n\u001b[1;32m   1020\u001b[0m                                  \u001b[0mfeed_dict\u001b[0m\u001b[1;33m,\u001b[0m \u001b[0mfetch_list\u001b[0m\u001b[1;33m,\u001b[0m \u001b[0mtarget_list\u001b[0m\u001b[1;33m,\u001b[0m\u001b[1;33m\u001b[0m\u001b[0m\n\u001b[0;32m-> 1021\u001b[0;31m                                  status, run_metadata)\n\u001b[0m\u001b[1;32m   1022\u001b[0m \u001b[1;33m\u001b[0m\u001b[0m\n\u001b[1;32m   1023\u001b[0m     \u001b[1;32mdef\u001b[0m \u001b[0m_prun_fn\u001b[0m\u001b[1;33m(\u001b[0m\u001b[0msession\u001b[0m\u001b[1;33m,\u001b[0m \u001b[0mhandle\u001b[0m\u001b[1;33m,\u001b[0m \u001b[0mfeed_dict\u001b[0m\u001b[1;33m,\u001b[0m \u001b[0mfetch_list\u001b[0m\u001b[1;33m)\u001b[0m\u001b[1;33m:\u001b[0m\u001b[1;33m\u001b[0m\u001b[0m\n",
      "\u001b[0;31mKeyboardInterrupt\u001b[0m: "
     ]
    }
   ],
   "source": [
    "\"\"\"\n",
    "DON'T MODIFY ANYTHING IN THIS CELL\n",
    "\"\"\"\n",
    "print('Checking the Training on a Single Batch...')\n",
    "with tf.Session() as sess:\n",
    "    # Initializing the variables\n",
    "    sess.run(tf.global_variables_initializer())\n",
    "    \n",
    "    # Training cycle\n",
    "    for epoch in range(epochs):\n",
    "        batch_i = 1\n",
    "        for batch_features, batch_labels in helper.load_preprocess_training_batch(batch_i, batch_size):\n",
    "            train_neural_network(sess, optimizer, keep_probability, batch_features, batch_labels)\n",
    "        print('Epoch {:>2}, CIFAR-10 Batch {}:  '.format(epoch + 1, batch_i), end='')\n",
    "        print_stats(sess, batch_features, batch_labels, cost, accuracy)"
   ]
  },
  {
   "cell_type": "markdown",
   "metadata": {},
   "source": [
    "### Fully Train the Model\n",
    "Now that you got a good accuracy with a single CIFAR-10 batch, try it with all five batches."
   ]
  },
  {
   "cell_type": "code",
   "execution_count": 31,
   "metadata": {
    "scrolled": true
   },
   "outputs": [
    {
     "name": "stdout",
     "output_type": "stream",
     "text": [
      "Training...\n",
      "Epoch  1, CIFAR-10 Batch 1:  2.25808 0.1542\n",
      "Epoch  1, CIFAR-10 Batch 2:  2.16436 0.2286\n",
      "Epoch  1, CIFAR-10 Batch 3:  1.93994 0.2478\n",
      "Epoch  1, CIFAR-10 Batch 4:  2.01854 0.2518\n",
      "Epoch  1, CIFAR-10 Batch 5:  2.02682 0.2678\n",
      "Epoch  2, CIFAR-10 Batch 1:  2.22296 0.2952\n",
      "Epoch  2, CIFAR-10 Batch 2:  2.04107 0.3226\n",
      "Epoch  2, CIFAR-10 Batch 3:  1.6328 0.3226\n",
      "Epoch  2, CIFAR-10 Batch 4:  1.72216 0.3738\n",
      "Epoch  2, CIFAR-10 Batch 5:  1.73091 0.3864\n",
      "Epoch  3, CIFAR-10 Batch 1:  1.98472 0.3974\n",
      "Epoch  3, CIFAR-10 Batch 2:  1.73073 0.4074\n",
      "Epoch  3, CIFAR-10 Batch 3:  1.445 0.4094\n",
      "Epoch  3, CIFAR-10 Batch 4:  1.54927 0.4254\n",
      "Epoch  3, CIFAR-10 Batch 5:  1.63447 0.4398\n",
      "Epoch  4, CIFAR-10 Batch 1:  1.86242 0.4394\n",
      "Epoch  4, CIFAR-10 Batch 2:  1.5757 0.4374\n",
      "Epoch  4, CIFAR-10 Batch 3:  1.31462 0.4388\n",
      "Epoch  4, CIFAR-10 Batch 4:  1.44706 0.4276\n",
      "Epoch  4, CIFAR-10 Batch 5:  1.52139 0.4592\n",
      "Epoch  5, CIFAR-10 Batch 1:  1.73058 0.4682\n",
      "Epoch  5, CIFAR-10 Batch 2:  1.43429 0.4488\n",
      "Epoch  5, CIFAR-10 Batch 3:  1.2196 0.4624\n",
      "Epoch  5, CIFAR-10 Batch 4:  1.3615 0.4564\n",
      "Epoch  5, CIFAR-10 Batch 5:  1.41142 0.4798\n",
      "Epoch  6, CIFAR-10 Batch 1:  1.62072 0.4818\n",
      "Epoch  6, CIFAR-10 Batch 2:  1.319 0.471\n",
      "Epoch  6, CIFAR-10 Batch 3:  1.17394 0.4718\n",
      "Epoch  6, CIFAR-10 Batch 4:  1.32356 0.4782\n",
      "Epoch  6, CIFAR-10 Batch 5:  1.29754 0.4876\n",
      "Epoch  7, CIFAR-10 Batch 1:  1.49648 0.4976\n",
      "Epoch  7, CIFAR-10 Batch 2:  1.24155 0.4922\n",
      "Epoch  7, CIFAR-10 Batch 3:  1.0738 0.491\n",
      "Epoch  7, CIFAR-10 Batch 4:  1.24344 0.4892\n",
      "Epoch  7, CIFAR-10 Batch 5:  1.24126 0.5078\n",
      "Epoch  8, CIFAR-10 Batch 1:  1.34705 0.5196\n",
      "Epoch  8, CIFAR-10 Batch 2:  1.13797 0.503\n",
      "Epoch  8, CIFAR-10 Batch 3:  0.931825 0.5098\n",
      "Epoch  8, CIFAR-10 Batch 4:  1.18073 0.498\n",
      "Epoch  8, CIFAR-10 Batch 5:  1.17609 0.529\n",
      "Epoch  9, CIFAR-10 Batch 1:  1.2056 0.5392\n",
      "Epoch  9, CIFAR-10 Batch 2:  1.03223 0.5286\n",
      "Epoch  9, CIFAR-10 Batch 3:  0.833349 0.5306\n",
      "Epoch  9, CIFAR-10 Batch 4:  1.13191 0.5354\n",
      "Epoch  9, CIFAR-10 Batch 5:  1.09227 0.5398\n",
      "Epoch 10, CIFAR-10 Batch 1:  1.1273 0.5594\n",
      "Epoch 10, CIFAR-10 Batch 2:  0.971055 0.5472\n",
      "Epoch 10, CIFAR-10 Batch 3:  0.762217 0.5568\n",
      "Epoch 10, CIFAR-10 Batch 4:  1.02032 0.5622\n",
      "Epoch 10, CIFAR-10 Batch 5:  0.985633 0.5666\n",
      "Epoch 11, CIFAR-10 Batch 1:  1.03448 0.5598\n",
      "Epoch 11, CIFAR-10 Batch 2:  0.92569 0.5672\n",
      "Epoch 11, CIFAR-10 Batch 3:  0.675826 0.5658\n",
      "Epoch 11, CIFAR-10 Batch 4:  0.926563 0.5784\n",
      "Epoch 11, CIFAR-10 Batch 5:  0.899947 0.5736\n",
      "Epoch 12, CIFAR-10 Batch 1:  0.893546 0.5826\n",
      "Epoch 12, CIFAR-10 Batch 2:  0.81448 0.5784\n",
      "Epoch 12, CIFAR-10 Batch 3:  0.620274 0.585\n",
      "Epoch 12, CIFAR-10 Batch 4:  0.872995 0.5922\n",
      "Epoch 12, CIFAR-10 Batch 5:  0.782287 0.5884\n",
      "Epoch 13, CIFAR-10 Batch 1:  0.847482 0.5862\n",
      "Epoch 13, CIFAR-10 Batch 2:  0.752147 0.5798\n",
      "Epoch 13, CIFAR-10 Batch 3:  0.509422 0.6008\n",
      "Epoch 13, CIFAR-10 Batch 4:  0.755276 0.5976\n",
      "Epoch 13, CIFAR-10 Batch 5:  0.745933 0.5972\n",
      "Epoch 14, CIFAR-10 Batch 1:  0.766753 0.5886\n",
      "Epoch 14, CIFAR-10 Batch 2:  0.685455 0.5868\n",
      "Epoch 14, CIFAR-10 Batch 3:  0.431983 0.6066\n",
      "Epoch 14, CIFAR-10 Batch 4:  0.676792 0.6122\n",
      "Epoch 14, CIFAR-10 Batch 5:  0.643502 0.6086\n",
      "Epoch 15, CIFAR-10 Batch 1:  0.6953 0.5996\n",
      "Epoch 15, CIFAR-10 Batch 2:  0.6136 0.5954\n",
      "Epoch 15, CIFAR-10 Batch 3:  0.365676 0.6152\n",
      "Epoch 15, CIFAR-10 Batch 4:  0.640003 0.6172\n",
      "Epoch 15, CIFAR-10 Batch 5:  0.549925 0.6158\n",
      "Epoch 16, CIFAR-10 Batch 1:  0.614189 0.6138\n",
      "Epoch 16, CIFAR-10 Batch 2:  0.600254 0.5954\n",
      "Epoch 16, CIFAR-10 Batch 3:  0.352276 0.6252\n",
      "Epoch 16, CIFAR-10 Batch 4:  0.527324 0.6296\n",
      "Epoch 16, CIFAR-10 Batch 5:  0.478631 0.6246\n",
      "Epoch 17, CIFAR-10 Batch 1:  0.543863 0.6208\n",
      "Epoch 17, CIFAR-10 Batch 2:  0.497009 0.6236\n",
      "Epoch 17, CIFAR-10 Batch 3:  0.32596 0.6376\n",
      "Epoch 17, CIFAR-10 Batch 4:  0.432733 0.634\n",
      "Epoch 17, CIFAR-10 Batch 5:  0.412308 0.6376\n",
      "Epoch 18, CIFAR-10 Batch 1:  0.45807 0.6178\n",
      "Epoch 18, CIFAR-10 Batch 2:  0.427768 0.6252\n",
      "Epoch 18, CIFAR-10 Batch 3:  0.29594 0.6366\n",
      "Epoch 18, CIFAR-10 Batch 4:  0.408423 0.6366\n",
      "Epoch 18, CIFAR-10 Batch 5:  0.361714 0.6412\n",
      "Epoch 19, CIFAR-10 Batch 1:  0.429455 0.6316\n",
      "Epoch 19, CIFAR-10 Batch 2:  0.394192 0.6276\n",
      "Epoch 19, CIFAR-10 Batch 3:  0.263233 0.6428\n",
      "Epoch 19, CIFAR-10 Batch 4:  0.350448 0.6492\n",
      "Epoch 19, CIFAR-10 Batch 5:  0.328741 0.6474\n",
      "Epoch 20, CIFAR-10 Batch 1:  0.397536 0.6312\n",
      "Epoch 20, CIFAR-10 Batch 2:  0.378415 0.6304\n",
      "Epoch 20, CIFAR-10 Batch 3:  0.237902 0.6432\n",
      "Epoch 20, CIFAR-10 Batch 4:  0.304945 0.6552\n",
      "Epoch 20, CIFAR-10 Batch 5:  0.301415 0.6422\n",
      "Epoch 21, CIFAR-10 Batch 1:  0.361052 0.642\n",
      "Epoch 21, CIFAR-10 Batch 2:  0.335061 0.6418\n",
      "Epoch 21, CIFAR-10 Batch 3:  0.21755 0.644\n",
      "Epoch 21, CIFAR-10 Batch 4:  0.279251 0.6602\n",
      "Epoch 21, CIFAR-10 Batch 5:  0.270383 0.6508\n",
      "Epoch 22, CIFAR-10 Batch 1:  0.329296 0.6434\n",
      "Epoch 22, CIFAR-10 Batch 2:  0.278957 0.6482\n",
      "Epoch 22, CIFAR-10 Batch 3:  0.283914 0.645\n",
      "Epoch 22, CIFAR-10 Batch 4:  0.241647 0.6602\n",
      "Epoch 22, CIFAR-10 Batch 5:  0.255861 0.646\n",
      "Epoch 23, CIFAR-10 Batch 1:  0.267251 0.658\n",
      "Epoch 23, CIFAR-10 Batch 2:  0.232158 0.6536\n",
      "Epoch 23, CIFAR-10 Batch 3:  0.193152 0.6562\n",
      "Epoch 23, CIFAR-10 Batch 4:  0.218557 0.6576\n",
      "Epoch 23, CIFAR-10 Batch 5:  0.238091 0.648\n",
      "Epoch 24, CIFAR-10 Batch 1:  0.23675 0.6546\n",
      "Epoch 24, CIFAR-10 Batch 2:  0.220345 0.654\n",
      "Epoch 24, CIFAR-10 Batch 3:  0.174451 0.6644\n",
      "Epoch 24, CIFAR-10 Batch 4:  0.185801 0.6494\n",
      "Epoch 24, CIFAR-10 Batch 5:  0.20525 0.6524\n",
      "Epoch 25, CIFAR-10 Batch 1:  0.192549 0.6568\n",
      "Epoch 25, CIFAR-10 Batch 2:  0.193005 0.6558\n",
      "Epoch 25, CIFAR-10 Batch 3:  0.152251 0.6564\n",
      "Epoch 25, CIFAR-10 Batch 4:  0.151652 0.6654\n",
      "Epoch 25, CIFAR-10 Batch 5:  0.159983 0.6596\n",
      "Epoch 26, CIFAR-10 Batch 1:  0.192845 0.6592\n",
      "Epoch 26, CIFAR-10 Batch 2:  0.173915 0.6618\n",
      "Epoch 26, CIFAR-10 Batch 3:  0.137769 0.6612\n",
      "Epoch 26, CIFAR-10 Batch 4:  0.142264 0.6702\n",
      "Epoch 26, CIFAR-10 Batch 5:  0.153091 0.6634\n",
      "Epoch 27, CIFAR-10 Batch 1:  0.153193 0.6602\n",
      "Epoch 27, CIFAR-10 Batch 2:  0.171397 0.6674\n",
      "Epoch 27, CIFAR-10 Batch 3:  0.115261 0.657\n",
      "Epoch 27, CIFAR-10 Batch 4:  0.146822 0.6592\n",
      "Epoch 27, CIFAR-10 Batch 5:  0.140558 0.6624\n",
      "Epoch 28, CIFAR-10 Batch 1:  0.143665 0.6688\n",
      "Epoch 28, CIFAR-10 Batch 2:  0.139508 0.6638\n",
      "Epoch 28, CIFAR-10 Batch 3:  0.11692 0.6712\n",
      "Epoch 28, CIFAR-10 Batch 4:  0.120163 0.6514\n",
      "Epoch 28, CIFAR-10 Batch 5:  0.105694 0.6636\n",
      "Epoch 29, CIFAR-10 Batch 1:  0.117428 0.6744\n",
      "Epoch 29, CIFAR-10 Batch 2:  0.12928 0.655\n",
      "Epoch 29, CIFAR-10 Batch 3:  0.110162 0.6698\n",
      "Epoch 29, CIFAR-10 Batch 4:  0.124526 0.658\n",
      "Epoch 29, CIFAR-10 Batch 5:  0.0846838 0.6594\n",
      "Epoch 30, CIFAR-10 Batch 1:  0.113549 0.6716\n",
      "Epoch 30, CIFAR-10 Batch 2:  0.117007 0.6584\n",
      "Epoch 30, CIFAR-10 Batch 3:  0.0925023 0.672\n",
      "Epoch 30, CIFAR-10 Batch 4:  0.0932196 0.6608\n",
      "Epoch 30, CIFAR-10 Batch 5:  0.0806777 0.6598\n",
      "Epoch 31, CIFAR-10 Batch 1:  0.0893337 0.6688\n",
      "Epoch 31, CIFAR-10 Batch 2:  0.0873932 0.6674\n",
      "Epoch 31, CIFAR-10 Batch 3:  0.0717046 0.6786\n",
      "Epoch 31, CIFAR-10 Batch 4:  0.0851891 0.6662\n",
      "Epoch 31, CIFAR-10 Batch 5:  0.0878666 0.6498\n",
      "Epoch 32, CIFAR-10 Batch 1:  0.0957261 0.6734\n",
      "Epoch 32, CIFAR-10 Batch 2:  0.0892007 0.6652\n",
      "Epoch 32, CIFAR-10 Batch 3:  0.0732576 0.673\n",
      "Epoch 32, CIFAR-10 Batch 4:  0.0763934 0.6594\n",
      "Epoch 32, CIFAR-10 Batch 5:  0.0529551 0.6686\n",
      "Epoch 33, CIFAR-10 Batch 1:  0.0945893 0.674\n",
      "Epoch 33, CIFAR-10 Batch 2:  0.111148 0.6584\n",
      "Epoch 33, CIFAR-10 Batch 3:  0.0667132 0.6594\n",
      "Epoch 33, CIFAR-10 Batch 4:  0.0803565 0.648\n",
      "Epoch 33, CIFAR-10 Batch 5:  0.0600844 0.6634\n",
      "Epoch 34, CIFAR-10 Batch 1:  0.0926413 0.6698\n",
      "Epoch 34, CIFAR-10 Batch 2:  0.0905544 0.6482\n",
      "Epoch 34, CIFAR-10 Batch 3:  0.0577014 0.6784\n",
      "Epoch 34, CIFAR-10 Batch 4:  0.0570274 0.6722\n",
      "Epoch 34, CIFAR-10 Batch 5:  0.059936 0.6682\n",
      "Epoch 35, CIFAR-10 Batch 1:  0.0916078 0.6742\n",
      "Epoch 35, CIFAR-10 Batch 2:  0.0841309 0.6532\n",
      "Epoch 35, CIFAR-10 Batch 3:  0.0473349 0.6794\n",
      "Epoch 35, CIFAR-10 Batch 4:  0.0496742 0.6738\n",
      "Epoch 35, CIFAR-10 Batch 5:  0.0533328 0.6724\n",
      "Epoch 36, CIFAR-10 Batch 1:  0.0638698 0.6824\n",
      "Epoch 36, CIFAR-10 Batch 2:  0.0792673 0.6626\n",
      "Epoch 36, CIFAR-10 Batch 3:  0.0437073 0.678\n",
      "Epoch 36, CIFAR-10 Batch 4:  0.0377639 0.6812\n",
      "Epoch 36, CIFAR-10 Batch 5:  0.0353831 0.6772\n",
      "Epoch 37, CIFAR-10 Batch 1:  0.0548145 0.6896\n",
      "Epoch 37, CIFAR-10 Batch 2:  0.0622775 0.6532\n",
      "Epoch 37, CIFAR-10 Batch 3:  0.0310008 0.683\n",
      "Epoch 37, CIFAR-10 Batch 4:  0.0346696 0.6726\n",
      "Epoch 37, CIFAR-10 Batch 5:  0.0246271 0.6718\n",
      "Epoch 38, CIFAR-10 Batch 1:  0.0442871 0.6828\n",
      "Epoch 38, CIFAR-10 Batch 2:  0.0749386 0.6512\n",
      "Epoch 38, CIFAR-10 Batch 3:  0.0366505 0.6778\n",
      "Epoch 38, CIFAR-10 Batch 4:  0.0310526 0.682\n",
      "Epoch 38, CIFAR-10 Batch 5:  0.0270991 0.6728\n",
      "Epoch 39, CIFAR-10 Batch 1:  0.0392299 0.6826\n",
      "Epoch 39, CIFAR-10 Batch 2:  0.0443886 0.6602\n",
      "Epoch 39, CIFAR-10 Batch 3:  0.0341403 0.6794\n",
      "Epoch 39, CIFAR-10 Batch 4:  0.0402889 0.672\n",
      "Epoch 39, CIFAR-10 Batch 5:  0.0261583 0.6736\n",
      "Epoch 40, CIFAR-10 Batch 1:  0.0444095 0.6738\n",
      "Epoch 40, CIFAR-10 Batch 2:  0.0294378 0.6626\n",
      "Epoch 40, CIFAR-10 Batch 3:  0.0259307 0.6812\n",
      "Epoch 40, CIFAR-10 Batch 4:  0.036428 0.674\n",
      "Epoch 40, CIFAR-10 Batch 5:  0.0205962 0.6724\n"
     ]
    }
   ],
   "source": [
    "\"\"\"\n",
    "DON'T MODIFY ANYTHING IN THIS CELL\n",
    "\"\"\"\n",
    "save_model_path = './image_classification'\n",
    "\n",
    "print('Training...')\n",
    "with tf.Session() as sess:\n",
    "    # Initializing the variables\n",
    "    sess.run(tf.global_variables_initializer())\n",
    "    \n",
    "    # Training cycle\n",
    "    for epoch in range(epochs):\n",
    "        # Loop over all batches\n",
    "        n_batches = 5\n",
    "        for batch_i in range(1, n_batches + 1):\n",
    "            for batch_features, batch_labels in helper.load_preprocess_training_batch(batch_i, batch_size):\n",
    "                train_neural_network(sess, optimizer, keep_probability, batch_features, batch_labels)\n",
    "            print('Epoch {:>2}, CIFAR-10 Batch {}:  '.format(epoch + 1, batch_i), end='')\n",
    "            print_stats(sess, batch_features, batch_labels, cost, accuracy)\n",
    "            \n",
    "    # Save Model\n",
    "    saver = tf.train.Saver()\n",
    "    save_path = saver.save(sess, save_model_path)"
   ]
  },
  {
   "cell_type": "markdown",
   "metadata": {},
   "source": [
    "# Checkpoint\n",
    "The model has been saved to disk.\n",
    "## Test Model\n",
    "Test your model against the test dataset.  This will be your final accuracy. You should have an accuracy greater than 50%. If you don't, keep tweaking the model architecture and parameters."
   ]
  },
  {
   "cell_type": "code",
   "execution_count": 32,
   "metadata": {},
   "outputs": [
    {
     "name": "stdout",
     "output_type": "stream",
     "text": [
      "INFO:tensorflow:Restoring parameters from ./image_classification\n",
      "Testing Accuracy: 0.6759765625\n",
      "\n"
     ]
    },
    {
     "data": {
      "image/png": "[encoded data removed]",
      "text/plain": [
       "<matplotlib.figure.Figure at 0xc5e1630>"
      ]
     },
     "metadata": {
      "image/png": {
       "height": 319,
       "width": 351
      }
     },
     "output_type": "display_data"
    }
   ],
   "source": [
    "\"\"\"\n",
    "DON'T MODIFY ANYTHING IN THIS CELL\n",
    "\"\"\"\n",
    "%matplotlib inline\n",
    "%config InlineBackend.figure_format = 'retina'\n",
    "\n",
    "import tensorflow as tf\n",
    "import pickle\n",
    "import helper\n",
    "import random\n",
    "\n",
    "# Set batch size if not already set\n",
    "try:\n",
    "    if batch_size:\n",
    "        pass\n",
    "except NameError:\n",
    "    batch_size = 64\n",
    "\n",
    "save_model_path = './image_classification'\n",
    "n_samples = 4\n",
    "top_n_predictions = 3\n",
    "\n",
    "def test_model():\n",
    "    \"\"\"\n",
    "    Test the saved model against the test dataset\n",
    "    \"\"\"\n",
    "\n",
    "    test_features, test_labels = pickle.load(open('preprocess_test.p', mode='rb'))\n",
    "    loaded_graph = tf.Graph()\n",
    "\n",
    "    with tf.Session(graph=loaded_graph) as sess:\n",
    "        # Load model\n",
    "        loader = tf.train.import_meta_graph(save_model_path + '.meta')\n",
    "        loader.restore(sess, save_model_path)\n",
    "\n",
    "        # Get Tensors from loaded model\n",
    "        loaded_x = loaded_graph.get_tensor_by_name('x:0')\n",
    "        loaded_y = loaded_graph.get_tensor_by_name('y:0')\n",
    "        loaded_keep_prob = loaded_graph.get_tensor_by_name('keep_prob:0')\n",
    "        loaded_logits = loaded_graph.get_tensor_by_name('logits:0')\n",
    "        loaded_acc = loaded_graph.get_tensor_by_name('accuracy:0')\n",
    "        \n",
    "        # Get accuracy in batches for memory limitations\n",
    "        test_batch_acc_total = 0\n",
    "        test_batch_count = 0\n",
    "        \n",
    "        for test_feature_batch, test_label_batch in helper.batch_features_labels(test_features, test_labels, batch_size):\n",
    "            test_batch_acc_total += sess.run(\n",
    "                loaded_acc,\n",
    "                feed_dict={loaded_x: test_feature_batch, loaded_y: test_label_batch, loaded_keep_prob: 1.0})\n",
    "            test_batch_count += 1\n",
    "\n",
    "        print('Testing Accuracy: {}\\n'.format(test_batch_acc_total/test_batch_count))\n",
    "\n",
    "        # Print Random Samples\n",
    "        random_test_features, random_test_labels = tuple(zip(*random.sample(list(zip(test_features, test_labels)), n_samples)))\n",
    "        random_test_predictions = sess.run(\n",
    "            tf.nn.top_k(tf.nn.softmax(loaded_logits), top_n_predictions),\n",
    "            feed_dict={loaded_x: random_test_features, loaded_y: random_test_labels, loaded_keep_prob: 1.0})\n",
    "        helper.display_image_predictions(random_test_features, random_test_labels, random_test_predictions)\n",
    "\n",
    "\n",
    "test_model()"
   ]
  },
  {
   "cell_type": "markdown",
   "metadata": {},
   "source": [
    "## Why 50-80% Accuracy?\n",
    "You might be wondering why you can't get an accuracy any higher. First things first, 50% isn't bad for a simple CNN.  Pure guessing would get you 10% accuracy. However, you might notice people are getting scores [well above 80%](http://rodrigob.github.io/are_we_there_yet/build/classification_datasets_results.html#43494641522d3130).  That's because we haven't taught you all there is to know about neural networks. We still need to cover a few more techniques.\n",
    "## Submitting This Project\n",
    "When submitting this project, make sure to run all the cells before saving the notebook.  Save the notebook file as \"dlnd_image_classification.ipynb\" and save it as a HTML file under \"File\" -> \"Download as\".  Include the \"helper.py\" and \"problem_unittests.py\" files in your submission."
   ]
  }
 ],
 "metadata": {
  "kernelspec": {
   "display_name": "Python 3",
   "language": "python",
   "name": "python3"
  },
  "language_info": {
   "codemirror_mode": {
    "name": "ipython",
    "version": 3
   },
   "file_extension": ".py",
   "mimetype": "text/x-python",
   "name": "python",
   "nbconvert_exporter": "python",
   "pygments_lexer": "ipython3",
   "version": "3.6.2"
  }
 },
 "nbformat": 4,
 "nbformat_minor": 1
}
